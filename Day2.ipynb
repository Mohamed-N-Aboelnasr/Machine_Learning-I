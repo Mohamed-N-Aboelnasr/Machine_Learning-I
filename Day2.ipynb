{
 "cells": [
  {
   "cell_type": "markdown",
   "id": "49d8f999",
   "metadata": {},
   "source": [
    "<center>\n",
    "    <h1>Mohamed Nasser Aboelnasr</h1>\n",
    "</center>"
   ]
  },
  {
   "cell_type": "code",
   "execution_count": 373,
   "id": "daec5ac3",
   "metadata": {},
   "outputs": [],
   "source": [
    "import numpy as np\n",
    "import pandas as pd\n",
    "import matplotlib.pyplot as plt\n",
    "import seaborn as sns\n",
    "from sklearn import linear_model\n",
    "from sklearn.model_selection import train_test_split\n",
    "from sklearn.linear_model import LinearRegression"
   ]
  },
  {
   "cell_type": "code",
   "execution_count": 374,
   "id": "f775d695",
   "metadata": {
    "scrolled": true
   },
   "outputs": [
    {
     "data": {
      "text/html": [
       "<div>\n",
       "<style scoped>\n",
       "    .dataframe tbody tr th:only-of-type {\n",
       "        vertical-align: middle;\n",
       "    }\n",
       "\n",
       "    .dataframe tbody tr th {\n",
       "        vertical-align: top;\n",
       "    }\n",
       "\n",
       "    .dataframe thead th {\n",
       "        text-align: right;\n",
       "    }\n",
       "</style>\n",
       "<table border=\"1\" class=\"dataframe\">\n",
       "  <thead>\n",
       "    <tr style=\"text-align: right;\">\n",
       "      <th></th>\n",
       "      <th>mpg</th>\n",
       "      <th>cylinders</th>\n",
       "      <th>displacement</th>\n",
       "      <th>horsepower</th>\n",
       "      <th>weight</th>\n",
       "      <th>acceleration</th>\n",
       "      <th>model year</th>\n",
       "      <th>origin</th>\n",
       "      <th>car name</th>\n",
       "    </tr>\n",
       "  </thead>\n",
       "  <tbody>\n",
       "    <tr>\n",
       "      <th>0</th>\n",
       "      <td>18.0</td>\n",
       "      <td>8</td>\n",
       "      <td>307.0</td>\n",
       "      <td>130.0</td>\n",
       "      <td>3504.0</td>\n",
       "      <td>12.0</td>\n",
       "      <td>70</td>\n",
       "      <td>1</td>\n",
       "      <td>chevrolet chevelle malibu</td>\n",
       "    </tr>\n",
       "    <tr>\n",
       "      <th>1</th>\n",
       "      <td>15.0</td>\n",
       "      <td>8</td>\n",
       "      <td>350.0</td>\n",
       "      <td>165.0</td>\n",
       "      <td>3693.0</td>\n",
       "      <td>11.5</td>\n",
       "      <td>70</td>\n",
       "      <td>1</td>\n",
       "      <td>buick skylark 320</td>\n",
       "    </tr>\n",
       "    <tr>\n",
       "      <th>2</th>\n",
       "      <td>18.0</td>\n",
       "      <td>8</td>\n",
       "      <td>318.0</td>\n",
       "      <td>150.0</td>\n",
       "      <td>3436.0</td>\n",
       "      <td>11.0</td>\n",
       "      <td>70</td>\n",
       "      <td>1</td>\n",
       "      <td>plymouth satellite</td>\n",
       "    </tr>\n",
       "    <tr>\n",
       "      <th>3</th>\n",
       "      <td>16.0</td>\n",
       "      <td>8</td>\n",
       "      <td>304.0</td>\n",
       "      <td>150.0</td>\n",
       "      <td>3433.0</td>\n",
       "      <td>12.0</td>\n",
       "      <td>70</td>\n",
       "      <td>1</td>\n",
       "      <td>amc rebel sst</td>\n",
       "    </tr>\n",
       "    <tr>\n",
       "      <th>4</th>\n",
       "      <td>17.0</td>\n",
       "      <td>8</td>\n",
       "      <td>302.0</td>\n",
       "      <td>140.0</td>\n",
       "      <td>3449.0</td>\n",
       "      <td>10.5</td>\n",
       "      <td>70</td>\n",
       "      <td>1</td>\n",
       "      <td>ford torino</td>\n",
       "    </tr>\n",
       "    <tr>\n",
       "      <th>...</th>\n",
       "      <td>...</td>\n",
       "      <td>...</td>\n",
       "      <td>...</td>\n",
       "      <td>...</td>\n",
       "      <td>...</td>\n",
       "      <td>...</td>\n",
       "      <td>...</td>\n",
       "      <td>...</td>\n",
       "      <td>...</td>\n",
       "    </tr>\n",
       "    <tr>\n",
       "      <th>393</th>\n",
       "      <td>27.0</td>\n",
       "      <td>4</td>\n",
       "      <td>140.0</td>\n",
       "      <td>86.00</td>\n",
       "      <td>2790.0</td>\n",
       "      <td>15.6</td>\n",
       "      <td>82</td>\n",
       "      <td>1</td>\n",
       "      <td>ford mustang gl</td>\n",
       "    </tr>\n",
       "    <tr>\n",
       "      <th>394</th>\n",
       "      <td>44.0</td>\n",
       "      <td>4</td>\n",
       "      <td>97.0</td>\n",
       "      <td>52.00</td>\n",
       "      <td>2130.0</td>\n",
       "      <td>24.6</td>\n",
       "      <td>82</td>\n",
       "      <td>2</td>\n",
       "      <td>vw pickup</td>\n",
       "    </tr>\n",
       "    <tr>\n",
       "      <th>395</th>\n",
       "      <td>32.0</td>\n",
       "      <td>4</td>\n",
       "      <td>135.0</td>\n",
       "      <td>84.00</td>\n",
       "      <td>2295.0</td>\n",
       "      <td>11.6</td>\n",
       "      <td>82</td>\n",
       "      <td>1</td>\n",
       "      <td>dodge rampage</td>\n",
       "    </tr>\n",
       "    <tr>\n",
       "      <th>396</th>\n",
       "      <td>28.0</td>\n",
       "      <td>4</td>\n",
       "      <td>120.0</td>\n",
       "      <td>79.00</td>\n",
       "      <td>2625.0</td>\n",
       "      <td>18.6</td>\n",
       "      <td>82</td>\n",
       "      <td>1</td>\n",
       "      <td>ford ranger</td>\n",
       "    </tr>\n",
       "    <tr>\n",
       "      <th>397</th>\n",
       "      <td>31.0</td>\n",
       "      <td>4</td>\n",
       "      <td>119.0</td>\n",
       "      <td>82.00</td>\n",
       "      <td>2720.0</td>\n",
       "      <td>19.4</td>\n",
       "      <td>82</td>\n",
       "      <td>1</td>\n",
       "      <td>chevy s-10</td>\n",
       "    </tr>\n",
       "  </tbody>\n",
       "</table>\n",
       "<p>398 rows × 9 columns</p>\n",
       "</div>"
      ],
      "text/plain": [
       "      mpg  cylinders  displacement horsepower  weight  acceleration  \\\n",
       "0    18.0          8         307.0      130.0  3504.0          12.0   \n",
       "1    15.0          8         350.0      165.0  3693.0          11.5   \n",
       "2    18.0          8         318.0      150.0  3436.0          11.0   \n",
       "3    16.0          8         304.0      150.0  3433.0          12.0   \n",
       "4    17.0          8         302.0      140.0  3449.0          10.5   \n",
       "..    ...        ...           ...        ...     ...           ...   \n",
       "393  27.0          4         140.0      86.00  2790.0          15.6   \n",
       "394  44.0          4          97.0      52.00  2130.0          24.6   \n",
       "395  32.0          4         135.0      84.00  2295.0          11.6   \n",
       "396  28.0          4         120.0      79.00  2625.0          18.6   \n",
       "397  31.0          4         119.0      82.00  2720.0          19.4   \n",
       "\n",
       "     model year  origin                   car name  \n",
       "0            70       1  chevrolet chevelle malibu  \n",
       "1            70       1          buick skylark 320  \n",
       "2            70       1         plymouth satellite  \n",
       "3            70       1              amc rebel sst  \n",
       "4            70       1                ford torino  \n",
       "..          ...     ...                        ...  \n",
       "393          82       1            ford mustang gl  \n",
       "394          82       2                  vw pickup  \n",
       "395          82       1              dodge rampage  \n",
       "396          82       1                ford ranger  \n",
       "397          82       1                 chevy s-10  \n",
       "\n",
       "[398 rows x 9 columns]"
      ]
     },
     "execution_count": 374,
     "metadata": {},
     "output_type": "execute_result"
    }
   ],
   "source": [
    "col_names = ['mpg','cylinders','displacement','horsepower','weight','acceleration','model year','origin','car name']\n",
    "df = pd.read_csv(\"auto-mpg.data\", header=None, delim_whitespace=True)\n",
    "df.columns = col_names\n",
    "df"
   ]
  },
  {
   "cell_type": "code",
   "execution_count": 375,
   "id": "ac6a9c19",
   "metadata": {
    "scrolled": true
   },
   "outputs": [
    {
     "name": "stdout",
     "output_type": "stream",
     "text": [
      "<class 'pandas.core.frame.DataFrame'>\n",
      "RangeIndex: 398 entries, 0 to 397\n",
      "Data columns (total 9 columns):\n",
      " #   Column        Non-Null Count  Dtype  \n",
      "---  ------        --------------  -----  \n",
      " 0   mpg           398 non-null    float64\n",
      " 1   cylinders     398 non-null    int64  \n",
      " 2   displacement  398 non-null    float64\n",
      " 3   horsepower    398 non-null    object \n",
      " 4   weight        398 non-null    float64\n",
      " 5   acceleration  398 non-null    float64\n",
      " 6   model year    398 non-null    int64  \n",
      " 7   origin        398 non-null    int64  \n",
      " 8   car name      398 non-null    object \n",
      "dtypes: float64(4), int64(3), object(2)\n",
      "memory usage: 28.1+ KB\n"
     ]
    }
   ],
   "source": [
    "df.info()"
   ]
  },
  {
   "cell_type": "code",
   "execution_count": 376,
   "id": "7144aef8",
   "metadata": {},
   "outputs": [],
   "source": [
    "df['horsepower'] = pd.to_numeric(df['horsepower'],errors='coerce')\n"
   ]
  },
  {
   "cell_type": "code",
   "execution_count": 377,
   "id": "03257836",
   "metadata": {},
   "outputs": [
    {
     "data": {
      "text/html": [
       "<div>\n",
       "<style scoped>\n",
       "    .dataframe tbody tr th:only-of-type {\n",
       "        vertical-align: middle;\n",
       "    }\n",
       "\n",
       "    .dataframe tbody tr th {\n",
       "        vertical-align: top;\n",
       "    }\n",
       "\n",
       "    .dataframe thead th {\n",
       "        text-align: right;\n",
       "    }\n",
       "</style>\n",
       "<table border=\"1\" class=\"dataframe\">\n",
       "  <thead>\n",
       "    <tr style=\"text-align: right;\">\n",
       "      <th></th>\n",
       "      <th>mpg</th>\n",
       "      <th>cylinders</th>\n",
       "      <th>displacement</th>\n",
       "      <th>horsepower</th>\n",
       "      <th>weight</th>\n",
       "      <th>acceleration</th>\n",
       "      <th>model year</th>\n",
       "      <th>origin</th>\n",
       "    </tr>\n",
       "  </thead>\n",
       "  <tbody>\n",
       "    <tr>\n",
       "      <th>count</th>\n",
       "      <td>398.000000</td>\n",
       "      <td>398.000000</td>\n",
       "      <td>398.000000</td>\n",
       "      <td>392.000000</td>\n",
       "      <td>398.000000</td>\n",
       "      <td>398.000000</td>\n",
       "      <td>398.000000</td>\n",
       "      <td>398.000000</td>\n",
       "    </tr>\n",
       "    <tr>\n",
       "      <th>mean</th>\n",
       "      <td>23.514573</td>\n",
       "      <td>5.454774</td>\n",
       "      <td>193.425879</td>\n",
       "      <td>104.469388</td>\n",
       "      <td>2970.424623</td>\n",
       "      <td>15.568090</td>\n",
       "      <td>76.010050</td>\n",
       "      <td>1.572864</td>\n",
       "    </tr>\n",
       "    <tr>\n",
       "      <th>std</th>\n",
       "      <td>7.815984</td>\n",
       "      <td>1.701004</td>\n",
       "      <td>104.269838</td>\n",
       "      <td>38.491160</td>\n",
       "      <td>846.841774</td>\n",
       "      <td>2.757689</td>\n",
       "      <td>3.697627</td>\n",
       "      <td>0.802055</td>\n",
       "    </tr>\n",
       "    <tr>\n",
       "      <th>min</th>\n",
       "      <td>9.000000</td>\n",
       "      <td>3.000000</td>\n",
       "      <td>68.000000</td>\n",
       "      <td>46.000000</td>\n",
       "      <td>1613.000000</td>\n",
       "      <td>8.000000</td>\n",
       "      <td>70.000000</td>\n",
       "      <td>1.000000</td>\n",
       "    </tr>\n",
       "    <tr>\n",
       "      <th>25%</th>\n",
       "      <td>17.500000</td>\n",
       "      <td>4.000000</td>\n",
       "      <td>104.250000</td>\n",
       "      <td>75.000000</td>\n",
       "      <td>2223.750000</td>\n",
       "      <td>13.825000</td>\n",
       "      <td>73.000000</td>\n",
       "      <td>1.000000</td>\n",
       "    </tr>\n",
       "    <tr>\n",
       "      <th>50%</th>\n",
       "      <td>23.000000</td>\n",
       "      <td>4.000000</td>\n",
       "      <td>148.500000</td>\n",
       "      <td>93.500000</td>\n",
       "      <td>2803.500000</td>\n",
       "      <td>15.500000</td>\n",
       "      <td>76.000000</td>\n",
       "      <td>1.000000</td>\n",
       "    </tr>\n",
       "    <tr>\n",
       "      <th>75%</th>\n",
       "      <td>29.000000</td>\n",
       "      <td>8.000000</td>\n",
       "      <td>262.000000</td>\n",
       "      <td>126.000000</td>\n",
       "      <td>3608.000000</td>\n",
       "      <td>17.175000</td>\n",
       "      <td>79.000000</td>\n",
       "      <td>2.000000</td>\n",
       "    </tr>\n",
       "    <tr>\n",
       "      <th>max</th>\n",
       "      <td>46.600000</td>\n",
       "      <td>8.000000</td>\n",
       "      <td>455.000000</td>\n",
       "      <td>230.000000</td>\n",
       "      <td>5140.000000</td>\n",
       "      <td>24.800000</td>\n",
       "      <td>82.000000</td>\n",
       "      <td>3.000000</td>\n",
       "    </tr>\n",
       "  </tbody>\n",
       "</table>\n",
       "</div>"
      ],
      "text/plain": [
       "              mpg   cylinders  displacement  horsepower       weight  \\\n",
       "count  398.000000  398.000000    398.000000  392.000000   398.000000   \n",
       "mean    23.514573    5.454774    193.425879  104.469388  2970.424623   \n",
       "std      7.815984    1.701004    104.269838   38.491160   846.841774   \n",
       "min      9.000000    3.000000     68.000000   46.000000  1613.000000   \n",
       "25%     17.500000    4.000000    104.250000   75.000000  2223.750000   \n",
       "50%     23.000000    4.000000    148.500000   93.500000  2803.500000   \n",
       "75%     29.000000    8.000000    262.000000  126.000000  3608.000000   \n",
       "max     46.600000    8.000000    455.000000  230.000000  5140.000000   \n",
       "\n",
       "       acceleration  model year      origin  \n",
       "count    398.000000  398.000000  398.000000  \n",
       "mean      15.568090   76.010050    1.572864  \n",
       "std        2.757689    3.697627    0.802055  \n",
       "min        8.000000   70.000000    1.000000  \n",
       "25%       13.825000   73.000000    1.000000  \n",
       "50%       15.500000   76.000000    1.000000  \n",
       "75%       17.175000   79.000000    2.000000  \n",
       "max       24.800000   82.000000    3.000000  "
      ]
     },
     "execution_count": 377,
     "metadata": {},
     "output_type": "execute_result"
    }
   ],
   "source": [
    "df.describe()"
   ]
  },
  {
   "cell_type": "code",
   "execution_count": 378,
   "id": "473b7a91",
   "metadata": {},
   "outputs": [
    {
     "data": {
      "text/plain": [
       "mpg             0\n",
       "cylinders       0\n",
       "displacement    0\n",
       "horsepower      6\n",
       "weight          0\n",
       "acceleration    0\n",
       "model year      0\n",
       "origin          0\n",
       "car name        0\n",
       "dtype: int64"
      ]
     },
     "execution_count": 378,
     "metadata": {},
     "output_type": "execute_result"
    }
   ],
   "source": [
    "df.isna().sum()"
   ]
  },
  {
   "cell_type": "markdown",
   "id": "4b3e1949",
   "metadata": {},
   "source": [
    "Here we can see there are 6 null values in **horsepower** column so we will replace them with mean value but after removing the outliers if exists"
   ]
  },
  {
   "cell_type": "code",
   "execution_count": 379,
   "id": "fdc8aefe",
   "metadata": {},
   "outputs": [
    {
     "data": {
      "text/plain": [
       "0"
      ]
     },
     "execution_count": 379,
     "metadata": {},
     "output_type": "execute_result"
    }
   ],
   "source": [
    "df.duplicated().sum()"
   ]
  },
  {
   "cell_type": "code",
   "execution_count": 380,
   "id": "50171d89",
   "metadata": {
    "scrolled": true
   },
   "outputs": [
    {
     "data": {
      "image/png": "[encoded data removed]",
      "text/plain": [
       "<Figure size 720x720 with 2 Axes>"
      ]
     },
     "metadata": {
      "needs_background": "light"
     },
     "output_type": "display_data"
    }
   ],
   "source": [
    "plt.figure(figsize=(10,10))\n",
    "sns.heatmap(df.corr(\"pearson\"),\n",
    "            vmin=-1, vmax=1,\n",
    "            cmap='coolwarm',\n",
    "            annot=True, \n",
    "            square=True);"
   ]
  },
  {
   "cell_type": "markdown",
   "id": "0744db6c",
   "metadata": {},
   "source": [
    "Here we can see the **cylinders** and **displacement** and **horsepower** and **weight** are the most correlated features with **mpg**"
   ]
  },
  {
   "cell_type": "code",
   "execution_count": 381,
   "id": "0150cf06",
   "metadata": {},
   "outputs": [
    {
     "data": {
      "text/plain": [
       "<AxesSubplot:>"
      ]
     },
     "execution_count": 381,
     "metadata": {},
     "output_type": "execute_result"
    },
    {
     "data": {
      "image/png": "[encoded data removed]",
      "text/plain": [
       "<Figure size 720x720 with 4 Axes>"
      ]
     },
     "metadata": {
      "needs_background": "light"
     },
     "output_type": "display_data"
    }
   ],
   "source": [
    "fig, axes = plt.subplots(nrows=2, ncols=2)\n",
    "df['cylinders'].plot(ax=axes[0,0],kind='box',figsize=(10,10))\n",
    "df['displacement'].plot(ax=axes[0,1],kind='box',figsize=(10,10))\n",
    "df['horsepower'].plot(ax=axes[1,0],kind='box',figsize=(10,10))\n",
    "df['weight'].plot(ax=axes[1,1],kind='box',figsize=(10,10))\n"
   ]
  },
  {
   "cell_type": "markdown",
   "id": "9a6c1b34",
   "metadata": {},
   "source": [
    "So here we can see there are outliers in **horsepower** therefore we can replace them by median for example or we can drop them.And because the outliers aren't too much we choose to drop them"
   ]
  },
  {
   "cell_type": "code",
   "execution_count": 382,
   "id": "2889a63b",
   "metadata": {},
   "outputs": [
    {
     "name": "stdout",
     "output_type": "stream",
     "text": [
      "Old Shape:  (398, 9)\n",
      "New Shape:  (382, 9)\n"
     ]
    }
   ],
   "source": [
    "Q1=df['horsepower'].quantile(0.25)\n",
    "Q3=df['horsepower'].quantile(0.75)\n",
    "IQR=Q3-Q1\n",
    "print(\"Old Shape: \", df.shape) \n",
    "not_outliers = df['horsepower'].between((Q1-1.5*IQR),(Q3+1.5*IQR))\n",
    "df = df[not_outliers]\n",
    "print(\"New Shape: \", df.shape) "
   ]
  },
  {
   "cell_type": "markdown",
   "id": "1155344b",
   "metadata": {},
   "source": [
    "Now we can replace the null values in **horsepower** column with the mean value"
   ]
  },
  {
   "cell_type": "code",
   "execution_count": 383,
   "id": "3d256c0b",
   "metadata": {},
   "outputs": [
    {
     "name": "stderr",
     "output_type": "stream",
     "text": [
      "<ipython-input-383-d57d4f7b4bef>:1: SettingWithCopyWarning: \n",
      "A value is trying to be set on a copy of a slice from a DataFrame.\n",
      "Try using .loc[row_indexer,col_indexer] = value instead\n",
      "\n",
      "See the caveats in the documentation: https://pandas.pydata.org/pandas-docs/stable/user_guide/indexing.html#returning-a-view-versus-a-copy\n",
      "  df['horsepower'] = df['horsepower'].fillna(df['horsepower'].median())\n"
     ]
    }
   ],
   "source": [
    "df['horsepower'] = df['horsepower'].fillna(df['horsepower'].median())"
   ]
  },
  {
   "cell_type": "markdown",
   "id": "cca952e4",
   "metadata": {},
   "source": [
    "Now we choose to try every one of the 4 features individually as x for the linear regression model"
   ]
  },
  {
   "cell_type": "markdown",
   "id": "48b1fc7a",
   "metadata": {},
   "source": [
    "### First we start with **cylinders** feature"
   ]
  },
  {
   "cell_type": "code",
   "execution_count": 384,
   "id": "2e970c87",
   "metadata": {},
   "outputs": [],
   "source": [
    "x = np.array(df['cylinders']).reshape(len(df),1) #independent variable array\n",
    "y = np.array(df['mpg'])  #dependent variable vector"
   ]
  },
  {
   "cell_type": "code",
   "execution_count": 385,
   "id": "f41d315c",
   "metadata": {},
   "outputs": [
    {
     "name": "stdout",
     "output_type": "stream",
     "text": [
      "score for training set for 0.1 test size : 0.6006097080379107\n",
      "score for testing set for 0.1 test size : 0.3933149258365276 \n",
      "\n",
      "score for training set for 0.2 test size : 0.6061990895286555\n",
      "score for testing set for 0.2 test size : 0.49151019367069915 \n",
      "\n",
      "score for training set for 0.3 test size : 0.6259075540981751\n",
      "score for testing set for 0.3 test size : 0.487860011532128 \n",
      "\n",
      "score for training set for 0.4 test size : 0.6259944744426447\n",
      "score for testing set for 0.4 test size : 0.5317608488906376 \n",
      "\n",
      "score for training set for 0.5 test size : 0.6202970332035084\n",
      "score for testing set for 0.5 test size : 0.5558862796656479 \n",
      "\n",
      "The average R-Squared score for trainig set :  0.6158015718621789\n",
      "The average R-Squared score for trainig set :  0.49206645191912807\n"
     ]
    }
   ],
   "source": [
    "test_list=[0.1,0.2,0.3,0.4,0.5]\n",
    "train_sc_l=[]\n",
    "test_sc_l=[]\n",
    "for t in test_list:\n",
    "    x_train, x_test, y_train, y_test = train_test_split(x,y,test_size=t,random_state=0)\n",
    "    regressor = LinearRegression()\n",
    "    regressor.fit(x_train,y_train)\n",
    "    train_sc=regressor.score(x_train, y_train)\n",
    "    train_sc_l.append(train_sc)\n",
    "    test_sc=regressor.score(x_test, y_test)\n",
    "    test_sc_l.append(test_sc)\n",
    "    print(f'score for training set for {t} test size :', train_sc)\n",
    "    print(f'score for testing set for {t} test size :', test_sc,'\\n')\n",
    "print(\"The average R-Squared score for trainig set : \",(sum(train_sc_l)/len(train_sc_l)))\n",
    "print(\"The average R-Squared score for trainig set : \",(sum(test_sc_l)/len(test_sc_l)))"
   ]
  },
  {
   "cell_type": "markdown",
   "id": "36ff0c4a",
   "metadata": {},
   "source": [
    "Here we can see the best test size for this case is **0.5**"
   ]
  },
  {
   "cell_type": "code",
   "execution_count": 386,
   "id": "aef9b9ec",
   "metadata": {},
   "outputs": [
    {
     "data": {
      "text/plain": [
       "LinearRegression()"
      ]
     },
     "execution_count": 386,
     "metadata": {},
     "output_type": "execute_result"
    }
   ],
   "source": [
    "x_train, x_test, y_train, y_test = train_test_split(x,y,test_size=0.5,random_state=0)\n",
    "regressor = LinearRegression()\n",
    "regressor.fit(x_train,y_train)"
   ]
  },
  {
   "cell_type": "code",
   "execution_count": 387,
   "id": "c36c8daa",
   "metadata": {},
   "outputs": [
    {
     "data": {
      "image/png": "[encoded data removed]",
      "text/plain": [
       "<Figure size 432x288 with 1 Axes>"
      ]
     },
     "metadata": {
      "needs_background": "light"
     },
     "output_type": "display_data"
    }
   ],
   "source": [
    "#plot for the TRAIN\n",
    " \n",
    "plt.scatter(x_train, y_train, color='red') # plotting the observation line\n",
    " \n",
    "plt.plot(x_train, regressor.predict(x_train), color='blue') # plotting the regression line\n",
    " \n",
    "plt.title(\"mpg vs cylinders (Training set)\") # stating the title of the graph\n",
    " \n",
    "plt.xlabel(\"Cylinders\") # adding the name of x-axis\n",
    "plt.ylabel(\"MPG\") # adding the name of y-axis\n",
    "plt.show() # specifies end of graph"
   ]
  },
  {
   "cell_type": "code",
   "execution_count": 388,
   "id": "00b0968b",
   "metadata": {},
   "outputs": [
    {
     "data": {
      "image/png": "[encoded data removed]",
      "text/plain": [
       "<Figure size 432x288 with 1 Axes>"
      ]
     },
     "metadata": {
      "needs_background": "light"
     },
     "output_type": "display_data"
    }
   ],
   "source": [
    "#plot for the Test\n",
    " \n",
    "plt.scatter(x_test, y_test, color='red') # plotting the observation line\n",
    " \n",
    "plt.plot(x_test, regressor.predict(x_test), color='blue') # plotting the regression line\n",
    " \n",
    "plt.title(\"mpg vs cylinders (Testing set)\") # stating the title of the graph\n",
    " \n",
    "plt.xlabel(\"Cylinders\") # adding the name of x-axis\n",
    "plt.ylabel(\"MPG\") # adding the name of y-axis\n",
    "plt.show() # specifies end of graph"
   ]
  },
  {
   "cell_type": "markdown",
   "id": "74377cb4",
   "metadata": {},
   "source": [
    "### Then we try  **displacement** feature"
   ]
  },
  {
   "cell_type": "code",
   "execution_count": 389,
   "id": "0039963b",
   "metadata": {},
   "outputs": [],
   "source": [
    "x = np.array(df['displacement']).reshape(len(df),1) #independent variable array\n",
    "y = np.array(df['mpg'])  #dependent variable vector"
   ]
  },
  {
   "cell_type": "code",
   "execution_count": 390,
   "id": "0c02e0fa",
   "metadata": {},
   "outputs": [
    {
     "name": "stdout",
     "output_type": "stream",
     "text": [
      "score for training set for 0.1 test size : 0.664816266565538\n",
      "score for testing set for 0.1 test size : 0.33320077063366826 \n",
      "\n",
      "score for training set for 0.2 test size : 0.6745685350790414\n",
      "score for testing set for 0.2 test size : 0.4843297873837249 \n",
      "\n",
      "score for training set for 0.3 test size : 0.692925060781361\n",
      "score for testing set for 0.3 test size : 0.5135639335063202 \n",
      "\n",
      "score for training set for 0.4 test size : 0.6980343441876597\n",
      "score for testing set for 0.4 test size : 0.5663123407303655 \n",
      "\n",
      "score for training set for 0.5 test size : 0.6884821157646728\n",
      "score for testing set for 0.5 test size : 0.6009670164633112 \n",
      "\n",
      "The average R-Squared score for trainig set :  0.6837652644756547\n",
      "The average R-Squared score for trainig set :  0.49967476974347813\n"
     ]
    }
   ],
   "source": [
    "test_list=[0.1,0.2,0.3,0.4,0.5]\n",
    "train_sc_l=[]\n",
    "test_sc_l=[]\n",
    "for t in test_list:\n",
    "    x_train, x_test, y_train, y_test = train_test_split(x,y,test_size=t,random_state=0)\n",
    "    regressor = LinearRegression()\n",
    "    regressor.fit(x_train,y_train)\n",
    "    train_sc=regressor.score(x_train, y_train)\n",
    "    train_sc_l.append(train_sc)\n",
    "    test_sc=regressor.score(x_test, y_test)\n",
    "    test_sc_l.append(test_sc)\n",
    "    print(f'score for training set for {t} test size :', train_sc)\n",
    "    print(f'score for testing set for {t} test size :', test_sc,'\\n')\n",
    "print(\"The average R-Squared score for trainig set : \",(sum(train_sc_l)/len(train_sc_l)))\n",
    "print(\"The average R-Squared score for trainig set : \",(sum(test_sc_l)/len(test_sc_l)))"
   ]
  },
  {
   "cell_type": "markdown",
   "id": "7fc60aad",
   "metadata": {},
   "source": [
    "Here we can see the best test size for this case is **0.4**"
   ]
  },
  {
   "cell_type": "code",
   "execution_count": 391,
   "id": "51cc0787",
   "metadata": {},
   "outputs": [
    {
     "data": {
      "text/plain": [
       "LinearRegression()"
      ]
     },
     "execution_count": 391,
     "metadata": {},
     "output_type": "execute_result"
    }
   ],
   "source": [
    "x_train, x_test, y_train, y_test = train_test_split(x,y,test_size=0.4,random_state=0)\n",
    "regressor = LinearRegression()\n",
    "regressor.fit(x_train,y_train)"
   ]
  },
  {
   "cell_type": "code",
   "execution_count": 392,
   "id": "e45bd093",
   "metadata": {},
   "outputs": [
    {
     "data": {
      "image/png": "[encoded data removed]",
      "text/plain": [
       "<Figure size 432x288 with 1 Axes>"
      ]
     },
     "metadata": {
      "needs_background": "light"
     },
     "output_type": "display_data"
    }
   ],
   "source": [
    "#plot for the TRAIN\n",
    " \n",
    "plt.scatter(x_train, y_train, color='red') # plotting the observation line\n",
    " \n",
    "plt.plot(x_train, regressor.predict(x_train), color='blue') # plotting the regression line\n",
    " \n",
    "plt.title(\"mpg vs displacement (Training set)\") # stating the title of the graph\n",
    " \n",
    "plt.xlabel(\"Displacement\") # adding the name of x-axis\n",
    "plt.ylabel(\"MPG\") # adding the name of y-axis\n",
    "plt.show() # specifies end of graph"
   ]
  },
  {
   "cell_type": "code",
   "execution_count": 393,
   "id": "24c87efc",
   "metadata": {},
   "outputs": [
    {
     "data": {
      "image/png": "[encoded data removed]",
      "text/plain": [
       "<Figure size 432x288 with 1 Axes>"
      ]
     },
     "metadata": {
      "needs_background": "light"
     },
     "output_type": "display_data"
    }
   ],
   "source": [
    "#plot for the Test\n",
    " \n",
    "plt.scatter(x_test, y_test, color='red') # plotting the observation line\n",
    " \n",
    "plt.plot(x_test, regressor.predict(x_test), color='blue') # plotting the regression line\n",
    " \n",
    "plt.title(\"mpg vs displacement (Testing set)\") # stating the title of the graph\n",
    " \n",
    "plt.xlabel(\"Displacement\") # adding the name of x-axis\n",
    "plt.ylabel(\"MPG\") # adding the name of y-axis\n",
    "plt.show() # specifies end of graph"
   ]
  },
  {
   "cell_type": "markdown",
   "id": "392bdd54",
   "metadata": {},
   "source": [
    "### Then we try  **horsepower** feature"
   ]
  },
  {
   "cell_type": "code",
   "execution_count": 394,
   "id": "0042d6f5",
   "metadata": {},
   "outputs": [],
   "source": [
    "x = np.array(df['horsepower']).reshape(len(df),1) #independent variable array\n",
    "y = np.array(df['mpg'])  #dependent variable vector"
   ]
  },
  {
   "cell_type": "code",
   "execution_count": 395,
   "id": "09589202",
   "metadata": {},
   "outputs": [
    {
     "name": "stdout",
     "output_type": "stream",
     "text": [
      "score for training set for 0.1 test size : 0.6257438580584436\n",
      "score for testing set for 0.1 test size : 0.5656177481499072 \n",
      "\n",
      "score for training set for 0.2 test size : 0.6328146818572982\n",
      "score for testing set for 0.2 test size : 0.5650164589879672 \n",
      "\n",
      "score for training set for 0.3 test size : 0.6414602399160758\n",
      "score for testing set for 0.3 test size : 0.5662328577046495 \n",
      "\n",
      "score for training set for 0.4 test size : 0.6587395123494245\n",
      "score for testing set for 0.4 test size : 0.5682844636778295 \n",
      "\n",
      "score for training set for 0.5 test size : 0.6477255462190907\n",
      "score for testing set for 0.5 test size : 0.5969066562045624 \n",
      "\n",
      "The average R-Squared score for trainig set :  0.6412967676800665\n",
      "The average R-Squared score for trainig set :  0.5724116369449831\n"
     ]
    }
   ],
   "source": [
    "test_list=[0.1,0.2,0.3,0.4,0.5]\n",
    "train_sc_l=[]\n",
    "test_sc_l=[]\n",
    "for t in test_list:\n",
    "    x_train, x_test, y_train, y_test = train_test_split(x,y,test_size=t,random_state=0)\n",
    "    regressor = LinearRegression()\n",
    "    regressor.fit(x_train,y_train)\n",
    "    train_sc=regressor.score(x_train, y_train)\n",
    "    train_sc_l.append(train_sc)\n",
    "    test_sc=regressor.score(x_test, y_test)\n",
    "    test_sc_l.append(test_sc)\n",
    "    print(f'score for training set for {t} test size :', train_sc)\n",
    "    print(f'score for testing set for {t} test size :', test_sc,'\\n')\n",
    "print(\"The average R-Squared score for trainig set : \",(sum(train_sc_l)/len(train_sc_l)))\n",
    "print(\"The average R-Squared score for trainig set : \",(sum(test_sc_l)/len(test_sc_l)))"
   ]
  },
  {
   "cell_type": "markdown",
   "id": "08bdc6d1",
   "metadata": {},
   "source": [
    "Here we can see the best test size for this case is **0.5**"
   ]
  },
  {
   "cell_type": "code",
   "execution_count": 396,
   "id": "c70a00a9",
   "metadata": {},
   "outputs": [
    {
     "data": {
      "text/plain": [
       "LinearRegression()"
      ]
     },
     "execution_count": 396,
     "metadata": {},
     "output_type": "execute_result"
    }
   ],
   "source": [
    "x_train, x_test, y_train, y_test = train_test_split(x,y,test_size=0.5,random_state=0)\n",
    "regressor = LinearRegression()\n",
    "regressor.fit(x_train,y_train)"
   ]
  },
  {
   "cell_type": "code",
   "execution_count": 397,
   "id": "11764456",
   "metadata": {},
   "outputs": [
    {
     "data": {
      "image/png": "[encoded data removed]",
      "text/plain": [
       "<Figure size 432x288 with 1 Axes>"
      ]
     },
     "metadata": {
      "needs_background": "light"
     },
     "output_type": "display_data"
    }
   ],
   "source": [
    "#plot for the TRAIN\n",
    " \n",
    "plt.scatter(x_train, y_train, color='red') # plotting the observation line\n",
    " \n",
    "plt.plot(x_train, regressor.predict(x_train), color='blue') # plotting the regression line\n",
    " \n",
    "plt.title(\"mpg vs horsepower (Training set)\") # stating the title of the graph\n",
    " \n",
    "plt.xlabel(\"Horsepower\") # adding the name of x-axis\n",
    "plt.ylabel(\"MPG\") # adding the name of y-axis\n",
    "plt.show() # specifies end of graph"
   ]
  },
  {
   "cell_type": "code",
   "execution_count": 398,
   "id": "cd968029",
   "metadata": {},
   "outputs": [
    {
     "data": {
      "image/png": "[encoded data removed]",
      "text/plain": [
       "<Figure size 432x288 with 1 Axes>"
      ]
     },
     "metadata": {
      "needs_background": "light"
     },
     "output_type": "display_data"
    }
   ],
   "source": [
    "#plot for the Test\n",
    " \n",
    "plt.scatter(x_test, y_test, color='red') # plotting the observation line\n",
    " \n",
    "plt.plot(x_test, regressor.predict(x_test), color='blue') # plotting the regression line\n",
    " \n",
    "plt.title(\"mpg vs horsepower (Testing set)\") # stating the title of the graph\n",
    " \n",
    "plt.xlabel(\"Horsepower\") # adding the name of x-axis\n",
    "plt.ylabel(\"MPG\") # adding the name of y-axis\n",
    "plt.show() # specifies end of graph"
   ]
  },
  {
   "cell_type": "markdown",
   "id": "5c6934d1",
   "metadata": {},
   "source": [
    "### Finally we try  **weight** feature"
   ]
  },
  {
   "cell_type": "code",
   "execution_count": 399,
   "id": "f5d0ab4f",
   "metadata": {},
   "outputs": [],
   "source": [
    "x = np.array(df['weight']).reshape(len(df),1) #independent variable array\n",
    "y = np.array(df['mpg'])  #dependent variable vector"
   ]
  },
  {
   "cell_type": "code",
   "execution_count": 400,
   "id": "65d7a615",
   "metadata": {},
   "outputs": [
    {
     "name": "stdout",
     "output_type": "stream",
     "text": [
      "score for training set for 0.1 test size : 0.6903744033683898\n",
      "score for testing set for 0.1 test size : 0.5634907327715692 \n",
      "\n",
      "score for training set for 0.2 test size : 0.6986290949320566\n",
      "score for testing set for 0.2 test size : 0.6022369448846073 \n",
      "\n",
      "score for training set for 0.3 test size : 0.7046769419559342\n",
      "score for testing set for 0.3 test size : 0.6245160522969351 \n",
      "\n",
      "score for training set for 0.4 test size : 0.7177542600900358\n",
      "score for testing set for 0.4 test size : 0.6332961664661971 \n",
      "\n",
      "score for training set for 0.5 test size : 0.7048071508849085\n",
      "score for testing set for 0.5 test size : 0.6617047072288891 \n",
      "\n",
      "The average R-Squared score for trainig set :  0.7032483702462651\n",
      "The average R-Squared score for trainig set :  0.6170489207296395\n"
     ]
    }
   ],
   "source": [
    "test_list=[0.1,0.2,0.3,0.4,0.5]\n",
    "train_sc_l=[]\n",
    "test_sc_l=[]\n",
    "for t in test_list:\n",
    "    x_train, x_test, y_train, y_test = train_test_split(x,y,test_size=t,random_state=0)\n",
    "    regressor = LinearRegression()\n",
    "    regressor.fit(x_train,y_train)\n",
    "    train_sc=regressor.score(x_train, y_train)\n",
    "    train_sc_l.append(train_sc)\n",
    "    test_sc=regressor.score(x_test, y_test)\n",
    "    test_sc_l.append(test_sc)\n",
    "    print(f'score for training set for {t} test size :', train_sc)\n",
    "    print(f'score for testing set for {t} test size :', test_sc,'\\n')\n",
    "print(\"The average R-Squared score for trainig set : \",(sum(train_sc_l)/len(train_sc_l)))\n",
    "print(\"The average R-Squared score for trainig set : \",(sum(test_sc_l)/len(test_sc_l)))"
   ]
  },
  {
   "cell_type": "markdown",
   "id": "744b0c9a",
   "metadata": {},
   "source": [
    "Here we can see the best test size for this case is **0.5**"
   ]
  },
  {
   "cell_type": "code",
   "execution_count": 401,
   "id": "714b2d67",
   "metadata": {},
   "outputs": [
    {
     "data": {
      "text/plain": [
       "LinearRegression()"
      ]
     },
     "execution_count": 401,
     "metadata": {},
     "output_type": "execute_result"
    }
   ],
   "source": [
    "x_train, x_test, y_train, y_test = train_test_split(x,y,test_size=0.5,random_state=0)\n",
    "regressor = LinearRegression()\n",
    "regressor.fit(x_train,y_train)"
   ]
  },
  {
   "cell_type": "code",
   "execution_count": 402,
   "id": "58e0ac8f",
   "metadata": {},
   "outputs": [
    {
     "data": {
      "image/png": "[encoded data removed]",
      "text/plain": [
       "<Figure size 432x288 with 1 Axes>"
      ]
     },
     "metadata": {
      "needs_background": "light"
     },
     "output_type": "display_data"
    }
   ],
   "source": [
    "#plot for the TRAIN\n",
    " \n",
    "plt.scatter(x_train, y_train, color='red') # plotting the observation line\n",
    " \n",
    "plt.plot(x_train, regressor.predict(x_train), color='blue') # plotting the regression line\n",
    " \n",
    "plt.title(\"mpg vs weight (Training set)\") # stating the title of the graph\n",
    " \n",
    "plt.xlabel(\"Weight\") # adding the name of x-axis\n",
    "plt.ylabel(\"MPG\") # adding the name of y-axis\n",
    "plt.show() # specifies end of graph"
   ]
  },
  {
   "cell_type": "code",
   "execution_count": 403,
   "id": "3e48b071",
   "metadata": {},
   "outputs": [
    {
     "data": {
      "image/png": "[encoded data removed]",
      "text/plain": [
       "<Figure size 432x288 with 1 Axes>"
      ]
     },
     "metadata": {
      "needs_background": "light"
     },
     "output_type": "display_data"
    }
   ],
   "source": [
    "#plot for the Test\n",
    " \n",
    "plt.scatter(x_test, y_test, color='red') # plotting the observation line\n",
    " \n",
    "plt.plot(x_test, regressor.predict(x_test), color='blue') # plotting the regression line\n",
    " \n",
    "plt.title(\"mpg vs weight (Testing set)\") # stating the title of the graph\n",
    " \n",
    "plt.xlabel(\"Weight\") # adding the name of x-axis\n",
    "plt.ylabel(\"MPG\") # adding the name of y-axis\n",
    "plt.show() # specifies end of graph"
   ]
  },
  {
   "cell_type": "markdown",
   "id": "a43845fe",
   "metadata": {},
   "source": [
    "### so we can choose horsepower , displacement and weight to be the best 3 features for expressing the mpg"
   ]
  },
  {
   "cell_type": "markdown",
   "id": "43857230",
   "metadata": {},
   "source": [
    "As we expect from EDA the the best 3 feature individually would give not-bad prediction because their correlation with target is very good but ofcourse we didn't expect to get a high score because we depend on them individually"
   ]
  },
  {
   "cell_type": "markdown",
   "id": "b587fef1",
   "metadata": {},
   "source": [
    "## Implementation of multivariate linear regression"
   ]
  },
  {
   "cell_type": "code",
   "execution_count": 404,
   "id": "b0c8dc50",
   "metadata": {},
   "outputs": [],
   "source": [
    "# Normalize the features\n",
    "x = df[['displacement','horsepower','weight']]\n",
    "y = df.mpg\n",
    "x_norm = (x - x.mean()) / x.std() # pandas automatically take the mean and std for every feature in the dataframe\n",
    "y_norm = (y - y.mean()) / y.std()"
   ]
  },
  {
   "cell_type": "code",
   "execution_count": 405,
   "id": "5898097d",
   "metadata": {},
   "outputs": [],
   "source": [
    "# Create x, y and theta\n",
    "x_norm=np.array(x_norm)\n",
    "x_norm=np.c_[np.ones(len(x_norm)),x_norm]\n",
    "y_norm=np.array(y_norm).reshape(len(y_norm),1)\n",
    "thetas=np.zeros(x_norm.shape[1]).reshape(x_norm.shape[1],1)"
   ]
  },
  {
   "cell_type": "code",
   "execution_count": 406,
   "id": "4b7c66d0",
   "metadata": {},
   "outputs": [
    {
     "name": "stdout",
     "output_type": "stream",
     "text": [
      "(382, 4)\n",
      "(382, 1)\n",
      "(4, 1)\n"
     ]
    }
   ],
   "source": [
    "print(x_norm.shape)\n",
    "print(y_norm.shape)\n",
    "print(thetas.shape)"
   ]
  },
  {
   "cell_type": "code",
   "execution_count": 407,
   "id": "d609316e",
   "metadata": {},
   "outputs": [],
   "source": [
    "def lossFunction(y_predict,y):\n",
    "    m=len(y)\n",
    "    return (1/(2*m))*sum((y_predict-y)**2)\n",
    "\n",
    "def batchGD(x,y,b,alpha,max_iters):\n",
    "    m=len(y)\n",
    "    cost_list=[]\n",
    "    gradients=[0]*len(b)\n",
    "    for _ in range(max_iters):\n",
    "        y_predict=np.dot(x,b)\n",
    "        cost=lossFunction(y_predict,y)\n",
    "        cost_list.append(cost)\n",
    "        for i in range(len(b)):\n",
    "            gradients[i]=(1/m)*sum((y_predict-y)*x[:,i].reshape(len(x),1))\n",
    "            b[i]=b[i]-alpha*gradients[i]\n",
    "    return b,cost_list"
   ]
  },
  {
   "cell_type": "code",
   "execution_count": 408,
   "id": "ec11614e",
   "metadata": {},
   "outputs": [],
   "source": [
    "class LinearRegression:\n",
    "    \n",
    "    def __init__(self):\n",
    "        self.theta=[]\n",
    "        self.cost=[]\n",
    "        \n",
    "    def train(self,x,y,b,alpha,max_iters):\n",
    "        self.theta,self.cost=batchGD(x,y,b,alpha,max_iters)\n",
    "    \n",
    "    def test(self,x):\n",
    "        return x.dot(self.theta)"
   ]
  },
  {
   "cell_type": "code",
   "execution_count": 409,
   "id": "84f2b054",
   "metadata": {},
   "outputs": [
    {
     "data": {
      "text/plain": [
       "array([[ 4.10433758e-16],\n",
       "       [-8.01865439e-02],\n",
       "       [-2.57540506e-01],\n",
       "       [-5.24689521e-01]])"
      ]
     },
     "execution_count": 409,
     "metadata": {},
     "output_type": "execute_result"
    }
   ],
   "source": [
    "# Train\n",
    "model = LinearRegression()\n",
    "model.train(x_norm, y_norm, thetas, 0.1, 1000)\n",
    "model.theta"
   ]
  },
  {
   "cell_type": "code",
   "execution_count": 410,
   "id": "76666757",
   "metadata": {},
   "outputs": [
    {
     "name": "stdout",
     "output_type": "stream",
     "text": [
      "[[18.56578759]\n",
      " [15.33716911]\n",
      " [17.66787054]\n",
      " [17.76996666]\n",
      " [18.28526392]\n",
      " [ 9.75125247]\n",
      " [12.8652593 ]\n",
      " [15.47747385]\n",
      " [16.10174219]\n",
      " [15.56367957]\n",
      " [27.3571415 ]\n",
      " [24.5679111 ]\n",
      " [24.73448961]\n",
      " [26.34186654]\n",
      " [29.04950809]\n",
      " [32.93586144]\n",
      " [26.3710265 ]\n",
      " [27.40103635]\n",
      " [27.39862793]\n",
      " [26.93714721]\n",
      " [25.75864837]\n",
      " [10.22514683]\n",
      " [ 8.90654823]\n",
      " [29.04950809]\n",
      " [28.0083183 ]\n",
      " [28.06264755]\n",
      " [25.0400281 ]\n",
      " [20.84915166]\n",
      " [21.52261259]\n",
      " [22.35233663]\n",
      " [21.83585479]\n",
      " [12.80910577]\n",
      " [10.66643477]\n",
      " [13.76976882]\n",
      " [14.43430115]\n",
      " [ 8.07638066]\n",
      " [ 9.57541945]\n",
      " [ 7.35447582]\n",
      " [22.68953   ]\n",
      " [28.34897474]\n",
      " [21.75288192]\n",
      " [23.15093029]\n",
      " [28.5687391 ]\n",
      " [28.84895158]\n",
      " [30.482403  ]\n",
      " [30.12159182]\n",
      " [32.29764907]\n",
      " [32.84282141]\n",
      " [32.12707885]\n",
      " [30.99051273]\n",
      " [27.81768017]\n",
      " [29.53094523]\n",
      " [30.4180737 ]\n",
      " [27.30281225]\n",
      " [28.53934301]\n",
      " [12.49064818]\n",
      " [11.05348323]\n",
      " [14.24322659]\n",
      " [13.89225251]\n",
      " [16.59902259]\n",
      " [11.95479832]\n",
      " [11.88956761]\n",
      " [10.00040529]\n",
      " [27.71511077]\n",
      " [15.52116613]\n",
      " [15.65557514]\n",
      " [14.14531523]\n",
      " [14.52738875]\n",
      " [23.57062341]\n",
      " [27.73047306]\n",
      " [24.8044996 ]\n",
      " [29.87097194]\n",
      " [27.71135327]\n",
      " [28.04293063]\n",
      " [26.54068961]\n",
      " [29.34164866]\n",
      " [29.19648852]\n",
      " [12.76193327]\n",
      " [16.59902259]\n",
      " [15.05426435]\n",
      " [15.55431123]\n",
      " [15.99719302]\n",
      " [ 6.75775111]\n",
      " [12.11943823]\n",
      " [12.45520449]\n",
      " [13.74349314]\n",
      " [14.06642404]\n",
      " [22.40714418]\n",
      " [21.77247931]\n",
      " [23.51633101]\n",
      " [23.7290533 ]\n",
      " [24.22005742]\n",
      " [32.37243647]\n",
      " [ 9.50808598]\n",
      " [ 8.96588425]\n",
      " [10.27586821]\n",
      " [10.5164929 ]\n",
      " [24.28062923]\n",
      " [28.31950531]\n",
      " [28.38327017]\n",
      " [27.4121798 ]\n",
      " [29.13121733]\n",
      " [28.18591795]\n",
      " [25.90757085]\n",
      " [28.26561318]\n",
      " [14.59372568]\n",
      " [32.78576077]\n",
      " [29.54927649]\n",
      " [26.55451634]\n",
      " [23.889081  ]\n",
      " [17.8491464 ]\n",
      " [25.02438557]\n",
      " [23.38824463]\n",
      " [14.60744811]\n",
      " [23.2499866 ]\n",
      " [23.7319023 ]\n",
      " [21.48831716]\n",
      " [31.26428252]\n",
      " [27.78571064]\n",
      " [31.98899017]\n",
      " [27.51810175]\n",
      " [19.30810749]\n",
      " [19.40696714]\n",
      " [19.99666518]\n",
      " [14.89491541]\n",
      " [11.28022754]\n",
      " [12.66563668]\n",
      " [12.45993967]\n",
      " [13.73290427]\n",
      " [28.89782413]\n",
      " [31.200591  ]\n",
      " [28.79782039]\n",
      " [33.62951637]\n",
      " [31.32836705]\n",
      " [29.87326567]\n",
      " [29.95655458]\n",
      " [29.1181339 ]\n",
      " [26.62397852]\n",
      " [27.41150777]\n",
      " [31.01931514]\n",
      " [22.28773886]\n",
      " [20.59509671]\n",
      " [22.64534366]\n",
      " [23.9877649 ]\n",
      " [ 9.95756856]\n",
      " [12.83975925]\n",
      " [12.46476343]\n",
      " [11.59599769]\n",
      " [18.22819999]\n",
      " [18.44918248]\n",
      " [18.92683107]\n",
      " [19.73517878]\n",
      " [22.48083367]\n",
      " [21.39562811]\n",
      " [20.29640276]\n",
      " [29.60419664]\n",
      " [26.57790393]\n",
      " [23.66821078]\n",
      " [27.09877396]\n",
      " [25.55113955]\n",
      " [29.62561016]\n",
      " [26.35585778]\n",
      " [23.88042277]\n",
      " [31.0849437 ]\n",
      " [22.79430594]\n",
      " [25.76706614]\n",
      " [24.85416511]\n",
      " [24.32551317]\n",
      " [24.67989205]\n",
      " [32.76245069]\n",
      " [27.46693909]\n",
      " [28.89679611]\n",
      " [26.38307897]\n",
      " [28.95392817]\n",
      " [28.96238488]\n",
      " [14.51363553]\n",
      " [13.97376248]\n",
      " [16.92181595]\n",
      " [13.52902876]\n",
      " [22.14901795]\n",
      " [21.11442756]\n",
      " [24.49212438]\n",
      " [23.41162373]\n",
      " [31.68218373]\n",
      " [30.50405143]\n",
      " [31.0849437 ]\n",
      " [32.76245069]\n",
      " [20.10109067]\n",
      " [21.60091548]\n",
      " [19.39321738]\n",
      " [22.42958279]\n",
      " [31.53185145]\n",
      " [30.85649188]\n",
      " [29.6825862 ]\n",
      " [27.57977717]\n",
      " [23.03248189]\n",
      " [15.19859937]\n",
      " [23.32066932]\n",
      " [23.59930681]\n",
      " [18.46653319]\n",
      " [11.09951526]\n",
      " [14.72600806]\n",
      " [16.80383998]\n",
      " [16.10497867]\n",
      " [30.62211268]\n",
      " [29.30458744]\n",
      " [32.39978221]\n",
      " [27.59558991]\n",
      " [31.07696252]\n",
      " [15.86431627]\n",
      " [17.29756094]\n",
      " [14.50933055]\n",
      " [14.72161727]\n",
      " [20.00563582]\n",
      " [20.88028621]\n",
      " [20.20397697]\n",
      " [20.67858074]\n",
      " [11.57127488]\n",
      " [12.73407637]\n",
      " [10.47564201]\n",
      " [13.11546747]\n",
      " [30.56158551]\n",
      " [25.72379922]\n",
      " [29.14365797]\n",
      " [25.66085878]\n",
      " [30.88331729]\n",
      " [29.60333018]\n",
      " [30.9804364 ]\n",
      " [29.33674862]\n",
      " [24.8644805 ]\n",
      " [25.31834642]\n",
      " [24.98637622]\n",
      " [32.12841806]\n",
      " [31.93869311]\n",
      " [31.97085015]\n",
      " [30.46454407]\n",
      " [32.33111298]\n",
      " [20.7026075 ]\n",
      " [16.784167  ]\n",
      " [17.750563  ]\n",
      " [20.34135797]\n",
      " [22.97783574]\n",
      " [24.48991316]\n",
      " [25.89045608]\n",
      " [21.18384648]\n",
      " [22.79920529]\n",
      " [21.10075685]\n",
      " [23.97548167]\n",
      " [19.67176906]\n",
      " [19.91342091]\n",
      " [18.09351941]\n",
      " [17.29509095]\n",
      " [19.53882486]\n",
      " [15.09389209]\n",
      " [30.08318445]\n",
      " [26.30496704]\n",
      " [27.55619793]\n",
      " [29.26519338]\n",
      " [26.52543768]\n",
      " [24.68004653]\n",
      " [25.33473466]\n",
      " [27.04176643]\n",
      " [24.53591025]\n",
      " [21.53870243]\n",
      " [24.07237296]\n",
      " [19.75091749]\n",
      " [30.77340086]\n",
      " [30.1811714 ]\n",
      " [21.18096738]\n",
      " [24.36742947]\n",
      " [25.057567  ]\n",
      " [22.52974117]\n",
      " [20.94559942]\n",
      " [16.93209225]\n",
      " [17.57236552]\n",
      " [15.61654107]\n",
      " [16.60932968]\n",
      " [12.65050567]\n",
      " [14.8990251 ]\n",
      " [18.61126297]\n",
      " [14.93640514]\n",
      " [31.09185845]\n",
      " [31.21434006]\n",
      " [30.56158621]\n",
      " [26.71899624]\n",
      " [22.29286913]\n",
      " [16.6478097 ]\n",
      " [24.56956236]\n",
      " [21.59554615]\n",
      " [29.7027745 ]\n",
      " [29.94774188]\n",
      " [31.00011214]\n",
      " [30.19124704]\n",
      " [25.95051327]\n",
      " [24.72762104]\n",
      " [24.21318955]\n",
      " [26.50903889]\n",
      " [29.67211617]\n",
      " [31.52050803]\n",
      " [30.13842134]\n",
      " [30.99876877]\n",
      " [25.91131849]\n",
      " [25.15555395]\n",
      " [24.31903053]\n",
      " [22.00511589]\n",
      " [29.34654732]\n",
      " [25.85576625]\n",
      " [27.64295614]\n",
      " [27.19028605]\n",
      " [29.07498805]\n",
      " [30.55292814]\n",
      " [24.41058241]\n",
      " [30.55917086]\n",
      " [31.63848331]\n",
      " [30.41364642]\n",
      " [26.10274072]\n",
      " [24.47686846]\n",
      " [31.67930463]\n",
      " [30.19654079]\n",
      " [32.0068875 ]\n",
      " [22.22749781]\n",
      " [27.09980907]\n",
      " [27.0806815 ]\n",
      " [29.1331075 ]\n",
      " [27.28100018]\n",
      " [26.47071126]\n",
      " [26.04802677]\n",
      " [24.38130655]\n",
      " [27.79543167]\n",
      " [32.74273654]\n",
      " [31.76239496]\n",
      " [32.58951408]\n",
      " [30.58848859]\n",
      " [31.22058278]\n",
      " [31.00252125]\n",
      " [30.95977258]\n",
      " [30.03612525]\n",
      " [30.7964731 ]\n",
      " [29.15519167]\n",
      " [29.51928742]\n",
      " [29.35069489]\n",
      " [28.65854351]\n",
      " [25.83854303]\n",
      " [27.24543696]\n",
      " [23.85050721]\n",
      " [24.40097122]\n",
      " [23.2064135 ]\n",
      " [22.96429235]\n",
      " [20.63867899]\n",
      " [18.66759829]\n",
      " [23.85011473]\n",
      " [21.88417139]\n",
      " [26.62867721]\n",
      " [26.45720004]\n",
      " [27.65754019]\n",
      " [26.95001805]\n",
      " [27.10952301]\n",
      " [25.63205568]\n",
      " [24.94757013]\n",
      " [30.54815041]\n",
      " [30.76379867]\n",
      " [31.03326279]\n",
      " [30.47706653]\n",
      " [30.1139246 ]\n",
      " [28.75894511]\n",
      " [29.37519163]\n",
      " [29.4635757 ]\n",
      " [31.11587967]\n",
      " [31.11587967]\n",
      " [30.96889924]\n",
      " [23.25350833]\n",
      " [23.85789716]\n",
      " [26.21950394]\n",
      " [23.35781758]\n",
      " [25.66998821]\n",
      " [27.86892188]\n",
      " [24.57869595]\n",
      " [25.66374203]\n",
      " [31.14183307]\n",
      " [28.23637295]\n",
      " [27.00382974]\n",
      " [26.37027403]]\n"
     ]
    }
   ],
   "source": [
    "# test\n",
    "y_predicted=model.test(x_norm) # normalized predicted y\n",
    "y_predicted_normal=(y_predicted*y.std())+y.mean() # normal predicted y without normalization\n",
    "print(y_predicted_normal)"
   ]
  },
  {
   "cell_type": "code",
   "execution_count": 411,
   "id": "03065a52",
   "metadata": {},
   "outputs": [
    {
     "name": "stdout",
     "output_type": "stream",
     "text": [
      "R_Squared =  [0.70058548]\n"
     ]
    }
   ],
   "source": [
    "y=np.array(y).reshape(len(y),1)\n",
    "ss_tot=sum((y-y.mean())**2)\n",
    "ss_res=sum((y-y_predicted_normal)**2)\n",
    "r2=1-(ss_res/ss_tot)\n",
    "print('R_Squared = ', r2)"
   ]
  },
  {
   "cell_type": "code",
   "execution_count": null,
   "id": "ce22611f",
   "metadata": {},
   "outputs": [],
   "source": []
  }
 ],
 "metadata": {
  "kernelspec": {
   "display_name": "Python 3",
   "language": "python",
   "name": "python3"
  },
  "language_info": {
   "codemirror_mode": {
    "name": "ipython",
    "version": 3
   },
   "file_extension": ".py",
   "mimetype": "text/x-python",
   "name": "python",
   "nbconvert_exporter": "python",
   "pygments_lexer": "ipython3",
   "version": "3.8.8"
  }
 },
 "nbformat": 4,
 "nbformat_minor": 5
}
