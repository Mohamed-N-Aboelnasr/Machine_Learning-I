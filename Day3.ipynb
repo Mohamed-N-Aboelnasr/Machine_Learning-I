{
 "cells": [
  {
   "cell_type": "markdown",
   "id": "b7d0b685",
   "metadata": {},
   "source": [
    "<center>\n",
    "    <h1>Mohamed Nasser Aboelnasr</h1>\n",
    "</center>"
   ]
  },
  {
   "cell_type": "code",
   "execution_count": 1,
   "id": "45911dc9",
   "metadata": {},
   "outputs": [],
   "source": [
    "# importing libraries  \n",
    "import numpy as np\n",
    "import matplotlib.pyplot as plt  \n",
    "import pandas as pd\n",
    "import seaborn as sns"
   ]
  },
  {
   "cell_type": "code",
   "execution_count": 2,
   "id": "464a8a47",
   "metadata": {},
   "outputs": [],
   "source": [
    "# Reading the csv file\n",
    "df=pd.read_csv('Mall_Customers.csv')"
   ]
  },
  {
   "cell_type": "code",
   "execution_count": 3,
   "id": "3fdae45e",
   "metadata": {},
   "outputs": [
    {
     "data": {
      "text/html": [
       "<div>\n",
       "<style scoped>\n",
       "    .dataframe tbody tr th:only-of-type {\n",
       "        vertical-align: middle;\n",
       "    }\n",
       "\n",
       "    .dataframe tbody tr th {\n",
       "        vertical-align: top;\n",
       "    }\n",
       "\n",
       "    .dataframe thead th {\n",
       "        text-align: right;\n",
       "    }\n",
       "</style>\n",
       "<table border=\"1\" class=\"dataframe\">\n",
       "  <thead>\n",
       "    <tr style=\"text-align: right;\">\n",
       "      <th></th>\n",
       "      <th>CustomerID</th>\n",
       "      <th>Genre</th>\n",
       "      <th>Age</th>\n",
       "      <th>Annual Income (k$)</th>\n",
       "      <th>Spending Score (1-100)</th>\n",
       "    </tr>\n",
       "  </thead>\n",
       "  <tbody>\n",
       "    <tr>\n",
       "      <th>0</th>\n",
       "      <td>1</td>\n",
       "      <td>Male</td>\n",
       "      <td>19</td>\n",
       "      <td>15</td>\n",
       "      <td>39</td>\n",
       "    </tr>\n",
       "    <tr>\n",
       "      <th>1</th>\n",
       "      <td>2</td>\n",
       "      <td>Male</td>\n",
       "      <td>21</td>\n",
       "      <td>15</td>\n",
       "      <td>81</td>\n",
       "    </tr>\n",
       "    <tr>\n",
       "      <th>2</th>\n",
       "      <td>3</td>\n",
       "      <td>Female</td>\n",
       "      <td>20</td>\n",
       "      <td>16</td>\n",
       "      <td>6</td>\n",
       "    </tr>\n",
       "    <tr>\n",
       "      <th>3</th>\n",
       "      <td>4</td>\n",
       "      <td>Female</td>\n",
       "      <td>23</td>\n",
       "      <td>16</td>\n",
       "      <td>77</td>\n",
       "    </tr>\n",
       "    <tr>\n",
       "      <th>4</th>\n",
       "      <td>5</td>\n",
       "      <td>Female</td>\n",
       "      <td>31</td>\n",
       "      <td>17</td>\n",
       "      <td>40</td>\n",
       "    </tr>\n",
       "  </tbody>\n",
       "</table>\n",
       "</div>"
      ],
      "text/plain": [
       "   CustomerID   Genre  Age  Annual Income (k$)  Spending Score (1-100)\n",
       "0           1    Male   19                  15                      39\n",
       "1           2    Male   21                  15                      81\n",
       "2           3  Female   20                  16                       6\n",
       "3           4  Female   23                  16                      77\n",
       "4           5  Female   31                  17                      40"
      ]
     },
     "execution_count": 3,
     "metadata": {},
     "output_type": "execute_result"
    }
   ],
   "source": [
    "# show the first 5 rows of the dataset\n",
    "df.head(5)"
   ]
  },
  {
   "cell_type": "code",
   "execution_count": 4,
   "id": "a015b582",
   "metadata": {},
   "outputs": [],
   "source": [
    "# drop customer id column\n",
    "df.drop(columns=['CustomerID'],inplace=True)"
   ]
  },
  {
   "cell_type": "code",
   "execution_count": 5,
   "id": "3409a874",
   "metadata": {},
   "outputs": [
    {
     "data": {
      "text/html": [
       "<div>\n",
       "<style scoped>\n",
       "    .dataframe tbody tr th:only-of-type {\n",
       "        vertical-align: middle;\n",
       "    }\n",
       "\n",
       "    .dataframe tbody tr th {\n",
       "        vertical-align: top;\n",
       "    }\n",
       "\n",
       "    .dataframe thead th {\n",
       "        text-align: right;\n",
       "    }\n",
       "</style>\n",
       "<table border=\"1\" class=\"dataframe\">\n",
       "  <thead>\n",
       "    <tr style=\"text-align: right;\">\n",
       "      <th></th>\n",
       "      <th>Age</th>\n",
       "      <th>Annual Income (k$)</th>\n",
       "      <th>Spending Score (1-100)</th>\n",
       "    </tr>\n",
       "  </thead>\n",
       "  <tbody>\n",
       "    <tr>\n",
       "      <th>count</th>\n",
       "      <td>200.000000</td>\n",
       "      <td>200.000000</td>\n",
       "      <td>200.000000</td>\n",
       "    </tr>\n",
       "    <tr>\n",
       "      <th>mean</th>\n",
       "      <td>38.850000</td>\n",
       "      <td>60.560000</td>\n",
       "      <td>50.200000</td>\n",
       "    </tr>\n",
       "    <tr>\n",
       "      <th>std</th>\n",
       "      <td>13.969007</td>\n",
       "      <td>26.264721</td>\n",
       "      <td>25.823522</td>\n",
       "    </tr>\n",
       "    <tr>\n",
       "      <th>min</th>\n",
       "      <td>18.000000</td>\n",
       "      <td>15.000000</td>\n",
       "      <td>1.000000</td>\n",
       "    </tr>\n",
       "    <tr>\n",
       "      <th>25%</th>\n",
       "      <td>28.750000</td>\n",
       "      <td>41.500000</td>\n",
       "      <td>34.750000</td>\n",
       "    </tr>\n",
       "    <tr>\n",
       "      <th>50%</th>\n",
       "      <td>36.000000</td>\n",
       "      <td>61.500000</td>\n",
       "      <td>50.000000</td>\n",
       "    </tr>\n",
       "    <tr>\n",
       "      <th>75%</th>\n",
       "      <td>49.000000</td>\n",
       "      <td>78.000000</td>\n",
       "      <td>73.000000</td>\n",
       "    </tr>\n",
       "    <tr>\n",
       "      <th>max</th>\n",
       "      <td>70.000000</td>\n",
       "      <td>137.000000</td>\n",
       "      <td>99.000000</td>\n",
       "    </tr>\n",
       "  </tbody>\n",
       "</table>\n",
       "</div>"
      ],
      "text/plain": [
       "              Age  Annual Income (k$)  Spending Score (1-100)\n",
       "count  200.000000          200.000000              200.000000\n",
       "mean    38.850000           60.560000               50.200000\n",
       "std     13.969007           26.264721               25.823522\n",
       "min     18.000000           15.000000                1.000000\n",
       "25%     28.750000           41.500000               34.750000\n",
       "50%     36.000000           61.500000               50.000000\n",
       "75%     49.000000           78.000000               73.000000\n",
       "max     70.000000          137.000000               99.000000"
      ]
     },
     "execution_count": 5,
     "metadata": {},
     "output_type": "execute_result"
    }
   ],
   "source": [
    "# show some statistics about dataset\n",
    "df.describe()"
   ]
  },
  {
   "cell_type": "code",
   "execution_count": 6,
   "id": "45c6c33b",
   "metadata": {},
   "outputs": [
    {
     "name": "stdout",
     "output_type": "stream",
     "text": [
      "<class 'pandas.core.frame.DataFrame'>\n",
      "RangeIndex: 200 entries, 0 to 199\n",
      "Data columns (total 4 columns):\n",
      " #   Column                  Non-Null Count  Dtype \n",
      "---  ------                  --------------  ----- \n",
      " 0   Genre                   200 non-null    object\n",
      " 1   Age                     200 non-null    int64 \n",
      " 2   Annual Income (k$)      200 non-null    int64 \n",
      " 3   Spending Score (1-100)  200 non-null    int64 \n",
      "dtypes: int64(3), object(1)\n",
      "memory usage: 6.4+ KB\n"
     ]
    }
   ],
   "source": [
    "# show some information about dataset\n",
    "df.info()"
   ]
  },
  {
   "cell_type": "markdown",
   "id": "fd07e45d",
   "metadata": {},
   "source": [
    "From information above we see that there is no null values in dataset"
   ]
  },
  {
   "cell_type": "code",
   "execution_count": 7,
   "id": "1d882f3e",
   "metadata": {},
   "outputs": [
    {
     "data": {
      "text/html": [
       "<div>\n",
       "<style scoped>\n",
       "    .dataframe tbody tr th:only-of-type {\n",
       "        vertical-align: middle;\n",
       "    }\n",
       "\n",
       "    .dataframe tbody tr th {\n",
       "        vertical-align: top;\n",
       "    }\n",
       "\n",
       "    .dataframe thead th {\n",
       "        text-align: right;\n",
       "    }\n",
       "</style>\n",
       "<table border=\"1\" class=\"dataframe\">\n",
       "  <thead>\n",
       "    <tr style=\"text-align: right;\">\n",
       "      <th></th>\n",
       "      <th>Genre</th>\n",
       "      <th>Age</th>\n",
       "      <th>Annual Income (k$)</th>\n",
       "      <th>Spending Score (1-100)</th>\n",
       "    </tr>\n",
       "  </thead>\n",
       "  <tbody>\n",
       "    <tr>\n",
       "      <th>0</th>\n",
       "      <td>Male</td>\n",
       "      <td>19</td>\n",
       "      <td>15</td>\n",
       "      <td>39</td>\n",
       "    </tr>\n",
       "    <tr>\n",
       "      <th>1</th>\n",
       "      <td>Male</td>\n",
       "      <td>21</td>\n",
       "      <td>15</td>\n",
       "      <td>81</td>\n",
       "    </tr>\n",
       "    <tr>\n",
       "      <th>2</th>\n",
       "      <td>Female</td>\n",
       "      <td>20</td>\n",
       "      <td>16</td>\n",
       "      <td>6</td>\n",
       "    </tr>\n",
       "    <tr>\n",
       "      <th>3</th>\n",
       "      <td>Female</td>\n",
       "      <td>23</td>\n",
       "      <td>16</td>\n",
       "      <td>77</td>\n",
       "    </tr>\n",
       "    <tr>\n",
       "      <th>4</th>\n",
       "      <td>Female</td>\n",
       "      <td>31</td>\n",
       "      <td>17</td>\n",
       "      <td>40</td>\n",
       "    </tr>\n",
       "    <tr>\n",
       "      <th>...</th>\n",
       "      <td>...</td>\n",
       "      <td>...</td>\n",
       "      <td>...</td>\n",
       "      <td>...</td>\n",
       "    </tr>\n",
       "    <tr>\n",
       "      <th>195</th>\n",
       "      <td>Female</td>\n",
       "      <td>35</td>\n",
       "      <td>120</td>\n",
       "      <td>79</td>\n",
       "    </tr>\n",
       "    <tr>\n",
       "      <th>196</th>\n",
       "      <td>Female</td>\n",
       "      <td>45</td>\n",
       "      <td>126</td>\n",
       "      <td>28</td>\n",
       "    </tr>\n",
       "    <tr>\n",
       "      <th>197</th>\n",
       "      <td>Male</td>\n",
       "      <td>32</td>\n",
       "      <td>126</td>\n",
       "      <td>74</td>\n",
       "    </tr>\n",
       "    <tr>\n",
       "      <th>198</th>\n",
       "      <td>Male</td>\n",
       "      <td>32</td>\n",
       "      <td>137</td>\n",
       "      <td>18</td>\n",
       "    </tr>\n",
       "    <tr>\n",
       "      <th>199</th>\n",
       "      <td>Male</td>\n",
       "      <td>30</td>\n",
       "      <td>137</td>\n",
       "      <td>83</td>\n",
       "    </tr>\n",
       "  </tbody>\n",
       "</table>\n",
       "<p>200 rows × 4 columns</p>\n",
       "</div>"
      ],
      "text/plain": [
       "      Genre  Age  Annual Income (k$)  Spending Score (1-100)\n",
       "0      Male   19                  15                      39\n",
       "1      Male   21                  15                      81\n",
       "2    Female   20                  16                       6\n",
       "3    Female   23                  16                      77\n",
       "4    Female   31                  17                      40\n",
       "..      ...  ...                 ...                     ...\n",
       "195  Female   35                 120                      79\n",
       "196  Female   45                 126                      28\n",
       "197    Male   32                 126                      74\n",
       "198    Male   32                 137                      18\n",
       "199    Male   30                 137                      83\n",
       "\n",
       "[200 rows x 4 columns]"
      ]
     },
     "execution_count": 7,
     "metadata": {},
     "output_type": "execute_result"
    }
   ],
   "source": [
    "# drop duplicates\n",
    "df.drop_duplicates()"
   ]
  },
  {
   "cell_type": "code",
   "execution_count": 8,
   "id": "ddb7ce87",
   "metadata": {},
   "outputs": [
    {
     "data": {
      "image/png": "[encoded data removed]",
      "text/plain": [
       "<Figure size 720x720 with 2 Axes>"
      ]
     },
     "metadata": {
      "needs_background": "light"
     },
     "output_type": "display_data"
    }
   ],
   "source": [
    "plt.figure(figsize=(10,10))\n",
    "sns.heatmap(df.corr(\"pearson\"),\n",
    "            vmin=-1, vmax=1,\n",
    "            cmap='coolwarm',\n",
    "            annot=True, \n",
    "            square=True);"
   ]
  },
  {
   "cell_type": "code",
   "execution_count": 9,
   "id": "5a390265",
   "metadata": {},
   "outputs": [
    {
     "data": {
      "text/plain": [
       "<AxesSubplot:>"
      ]
     },
     "execution_count": 9,
     "metadata": {},
     "output_type": "execute_result"
    },
    {
     "data": {
      "image/png": "[encoded data removed]",
      "text/plain": [
       "<Figure size 1080x720 with 3 Axes>"
      ]
     },
     "metadata": {
      "needs_background": "light"
     },
     "output_type": "display_data"
    }
   ],
   "source": [
    "fig, axes = plt.subplots(nrows=1, ncols=3)\n",
    "df['Age'].plot(ax=axes[0],kind='box',figsize=(15,10))\n",
    "df['Annual Income (k$)'].plot(ax=axes[1],kind='box',figsize=(15,10))\n",
    "df['Spending Score (1-100)'].plot(ax=axes[2],kind='box',figsize=(15,10))\n"
   ]
  },
  {
   "cell_type": "markdown",
   "id": "8df3a8d9",
   "metadata": {},
   "source": [
    "So there are only  **outlier** in the annual income column"
   ]
  },
  {
   "cell_type": "code",
   "execution_count": 10,
   "id": "ebb0ee5a",
   "metadata": {},
   "outputs": [
    {
     "name": "stdout",
     "output_type": "stream",
     "text": [
      "Old Shape:  (200, 4)\n",
      "New Shape:  (198, 4)\n"
     ]
    }
   ],
   "source": [
    "# Drop the outlier\n",
    "Q1=df['Annual Income (k$)'].quantile(0.25)\n",
    "Q3=df['Annual Income (k$)'].quantile(0.75)\n",
    "IQR=Q3-Q1\n",
    "print(\"Old Shape: \", df.shape) \n",
    "not_outliers = df['Annual Income (k$)'].between((Q1-1.5*IQR),(Q3+1.5*IQR))\n",
    "df = df[not_outliers]\n",
    "print(\"New Shape: \", df.shape) "
   ]
  },
  {
   "cell_type": "code",
   "execution_count": 11,
   "id": "f9048862",
   "metadata": {},
   "outputs": [
    {
     "data": {
      "text/plain": [
       "<AxesSubplot:xlabel='Annual Income (k$)', ylabel='Spending Score (1-100)'>"
      ]
     },
     "execution_count": 11,
     "metadata": {},
     "output_type": "execute_result"
    },
    {
     "data": {
      "image/png": "[encoded data removed]",
      "text/plain": [
       "<Figure size 720x504 with 2 Axes>"
      ]
     },
     "metadata": {
      "needs_background": "light"
     },
     "output_type": "display_data"
    }
   ],
   "source": [
    "fig, axes = plt.subplots(nrows=1, ncols=2)\n",
    "df.plot.scatter(ax=axes[0],x='Age',y='Spending Score (1-100)',figsize=(10,7))\n",
    "df.plot.scatter(ax=axes[1],x='Annual Income (k$)',y='Spending Score (1-100)',figsize=(10,7))"
   ]
  },
  {
   "cell_type": "code",
   "execution_count": 12,
   "id": "44c3cdda",
   "metadata": {},
   "outputs": [
    {
     "data": {
      "text/plain": [
       "<AxesSubplot:ylabel='Spending Score (1-100)'>"
      ]
     },
     "execution_count": 12,
     "metadata": {},
     "output_type": "execute_result"
    },
    {
     "data": {
      "image/png": "[encoded data removed]",
      "text/plain": [
       "<Figure size 504x504 with 1 Axes>"
      ]
     },
     "metadata": {},
     "output_type": "display_data"
    }
   ],
   "source": [
    "# show spending score based on genre\n",
    "df.groupby('Genre')['Spending Score (1-100)'].sum().plot.pie(figsize=(7,7),autopct=\"%.1f%%\")"
   ]
  },
  {
   "cell_type": "markdown",
   "id": "a0a3493f",
   "metadata": {},
   "source": [
    "we can see that the spending score is high for female genre"
   ]
  },
  {
   "cell_type": "markdown",
   "id": "c11f7a50",
   "metadata": {},
   "source": [
    "## Implementation of multivariate linear regression"
   ]
  },
  {
   "cell_type": "code",
   "execution_count": 13,
   "id": "456346ae",
   "metadata": {},
   "outputs": [],
   "source": [
    "# Normalize the features\n",
    "x = df[['Age', 'Annual Income (k$)']]\n",
    "y = df['Spending Score (1-100)']\n",
    "x_norm = (x - x.mean()) / x.std() # pandas automatically take the mean and std for every feature in the dataframe"
   ]
  },
  {
   "cell_type": "code",
   "execution_count": 14,
   "id": "f2e16607",
   "metadata": {},
   "outputs": [],
   "source": [
    "# Create x, y and theta\n",
    "x_norm=np.array(x_norm)\n",
    "x_norm=np.c_[np.ones(len(x_norm)),x_norm]\n",
    "y=np.array(y).reshape(len(y),1)\n",
    "thetas=np.zeros(x_norm.shape[1]).reshape(x_norm.shape[1],1)"
   ]
  },
  {
   "cell_type": "code",
   "execution_count": 15,
   "id": "d25a12ee",
   "metadata": {},
   "outputs": [
    {
     "name": "stdout",
     "output_type": "stream",
     "text": [
      "(198, 3)\n",
      "(198, 1)\n",
      "(3, 1)\n"
     ]
    }
   ],
   "source": [
    "print(x_norm.shape)\n",
    "print(y.shape)\n",
    "print(thetas.shape)"
   ]
  },
  {
   "cell_type": "code",
   "execution_count": 16,
   "id": "0895ef7a",
   "metadata": {},
   "outputs": [],
   "source": [
    "def lossFunction(y_predict,y):\n",
    "    m=len(y)\n",
    "    return (1/(2*m))*sum((y_predict-y)**2)\n",
    "\n",
    "def batchGD(x,y,b,alpha,max_iters):\n",
    "    m=len(y)\n",
    "    cost_list=[]\n",
    "    gradients=[0]*len(b)\n",
    "    for _ in range(max_iters):\n",
    "        y_predict=np.dot(x,b)\n",
    "        cost=lossFunction(y_predict,y)\n",
    "        cost_list.append(cost)\n",
    "        for i in range(len(b)):\n",
    "            gradients[i]=(1/m)*sum((y_predict-y)*x[:,i].reshape(len(x),1))\n",
    "            b[i]=b[i]-alpha*gradients[i]\n",
    "    return b,cost_list"
   ]
  },
  {
   "cell_type": "code",
   "execution_count": 17,
   "id": "d298a677",
   "metadata": {},
   "outputs": [],
   "source": [
    "class MyLinearRegression:\n",
    "    \n",
    "    def __init__(self):\n",
    "        self.theta=[]\n",
    "        self.cost=[]\n",
    "        \n",
    "    def train(self,x,y,b,alpha,max_iters):\n",
    "        self.theta,self.cost=batchGD(x,y,b,alpha,max_iters)\n",
    "    \n",
    "    def test(self,x):\n",
    "        return x.dot(self.theta)"
   ]
  },
  {
   "cell_type": "code",
   "execution_count": 18,
   "id": "d33d95de",
   "metadata": {},
   "outputs": [
    {
     "name": "stdout",
     "output_type": "stream",
     "text": [
      "The coefficient:  [[49.86715136]\n",
      " [-8.42561274]\n",
      " [ 0.29362738]]\n"
     ]
    }
   ],
   "source": [
    "# Train\n",
    "model = MyLinearRegression()\n",
    "model.train(x_norm, y, thetas, 0.01, 500)\n",
    "print('The coefficient: ',model.theta)"
   ]
  },
  {
   "cell_type": "code",
   "execution_count": 19,
   "id": "1ddcd4ea",
   "metadata": {},
   "outputs": [
    {
     "data": {
      "image/png": "[encoded data removed]",
      "text/plain": [
       "<Figure size 864x576 with 1 Axes>"
      ]
     },
     "metadata": {
      "needs_background": "light"
     },
     "output_type": "display_data"
    }
   ],
   "source": [
    "plt.figure(figsize=(12,8))\n",
    "plt.plot(range(len(model.cost)), model.cost)\n",
    "plt.xlabel(\"No. Iteration\")\n",
    "plt.ylabel(\"Cost\")\n",
    "plt.title(\"Cost function vs No. of iterations\")\n",
    "plt.show()"
   ]
  },
  {
   "cell_type": "code",
   "execution_count": 20,
   "id": "aea8d62d",
   "metadata": {},
   "outputs": [
    {
     "name": "stdout",
     "output_type": "stream",
     "text": [
      "[[61.32567503]\n",
      " [60.12346317]\n",
      " [60.73620378]\n",
      " [58.93288598]\n",
      " [54.13567319]\n",
      " [59.54562659]\n",
      " [51.74288414]\n",
      " [58.95615534]\n",
      " [34.32244675]\n",
      " [54.76004848]\n",
      " [32.51912895]\n",
      " [51.75451882]\n",
      " [37.94071703]\n",
      " [58.37831876]\n",
      " [50.56394163]\n",
      " [59.58053062]\n",
      " [51.77778817]\n",
      " [60.79437717]\n",
      " [41.58225666]\n",
      " [51.80105753]\n",
      " [51.81269221]\n",
      " [57.82375154]\n",
      " [45.21216162]\n",
      " [54.22875062]\n",
      " [40.43821819]\n",
      " [55.46586652]\n",
      " [45.84817159]\n",
      " [51.85923092]\n",
      " [48.86533593]\n",
      " [59.08413679]\n",
      " [36.85485194]\n",
      " [60.29798334]\n",
      " [41.09749751]\n",
      " [62.13620517]\n",
      " [43.50192124]\n",
      " [60.33288737]\n",
      " [47.72129745]\n",
      " [54.93456865]\n",
      " [51.36283709]\n",
      " [60.98053202]\n",
      " [33.9423997 ]\n",
      " [58.58774296]\n",
      " [44.17283524]\n",
      " [54.39163611]\n",
      " [43.57172931]\n",
      " [58.59937764]\n",
      " [42.98225806]\n",
      " [56.80769452]\n",
      " [55.60548265]\n",
      " [54.40327079]\n",
      " [43.60663334]\n",
      " [53.22432828]\n",
      " [54.43817482]\n",
      " [37.60720869]\n",
      " [43.01716209]\n",
      " [44.82047989]\n",
      " [42.42769083]\n",
      " [31.60778404]\n",
      " [56.87750259]\n",
      " [41.24874832]\n",
      " [31.02994746]\n",
      " [61.68635005]\n",
      " [32.84489994]\n",
      " [40.65927707]\n",
      " [35.26095835]\n",
      " [62.31072534]\n",
      " [47.28307701]\n",
      " [32.25542868]\n",
      " [61.70961941]\n",
      " [53.89524228]\n",
      " [31.06485149]\n",
      " [44.89028796]\n",
      " [37.0875455 ]\n",
      " [37.0875455 ]\n",
      " [37.73519015]\n",
      " [57.57168594]\n",
      " [46.15067321]\n",
      " [49.15620288]\n",
      " [59.37500374]\n",
      " [43.74624948]\n",
      " [38.93740201]\n",
      " [50.35841475]\n",
      " [32.92634268]\n",
      " [45.54956728]\n",
      " [60.57721561]\n",
      " [44.34735541]\n",
      " [40.17451792]\n",
      " [60.01101371]\n",
      " [52.80937719]\n",
      " [43.19168226]\n",
      " [32.38341014]\n",
      " [62.4387068 ]\n",
      " [44.41716348]\n",
      " [49.22601095]\n",
      " [54.03485841]\n",
      " [58.84370588]\n",
      " [45.01826942]\n",
      " [57.04038808]\n",
      " [44.42879816]\n",
      " [61.25976429]\n",
      " [59.46808117]\n",
      " [43.8393269 ]\n",
      " [33.01942011]\n",
      " [57.66476337]\n",
      " [43.8393269 ]\n",
      " [60.67029304]\n",
      " [33.63216072]\n",
      " [40.84543192]\n",
      " [32.42994885]\n",
      " [33.63216072]\n",
      " [34.23326665]\n",
      " [61.88413958]\n",
      " [50.47476153]\n",
      " [61.89577426]\n",
      " [62.50851487]\n",
      " [61.90740894]\n",
      " [35.45874787]\n",
      " [43.87423094]\n",
      " [42.69528843]\n",
      " [43.29639436]\n",
      " [57.12183083]\n",
      " [50.50966556]\n",
      " [49.33072305]\n",
      " [49.93182898]\n",
      " [59.56115859]\n",
      " [54.75231113]\n",
      " [47.55067461]\n",
      " [49.35399241]\n",
      " [37.93297967]\n",
      " [50.55620427]\n",
      " [45.14625087]\n",
      " [49.95509834]\n",
      " [58.38221608]\n",
      " [54.77558048]\n",
      " [61.39938043]\n",
      " [55.98942703]\n",
      " [46.97283803]\n",
      " [54.18610923]\n",
      " [62.01212104]\n",
      " [52.39442611]\n",
      " [39.18173025]\n",
      " [54.20937858]\n",
      " [56.62543699]\n",
      " [54.22101326]\n",
      " [58.44038947]\n",
      " [56.63707167]\n",
      " [44.61495301]\n",
      " [54.23264794]\n",
      " [53.04207075]\n",
      " [53.04207075]\n",
      " [47.63211735]\n",
      " [50.03654109]\n",
      " [47.03101142]\n",
      " [50.63764702]\n",
      " [45.22769362]\n",
      " [57.24981228]\n",
      " [51.23875295]\n",
      " [55.44649448]\n",
      " [53.04207075]\n",
      " [55.44649448]\n",
      " [39.8293749 ]\n",
      " [56.0592351 ]\n",
      " [62.09356378]\n",
      " [54.88029259]\n",
      " [43.50581857]\n",
      " [51.92130163]\n",
      " [48.32630071]\n",
      " [53.73625411]\n",
      " [51.94457099]\n",
      " [54.34899472]\n",
      " [49.54014725]\n",
      " [56.75341845]\n",
      " [51.94457099]\n",
      " [51.94457099]\n",
      " [42.33851073]\n",
      " [55.56284126]\n",
      " [38.73187513]\n",
      " [57.36615906]\n",
      " [38.18894259]\n",
      " [52.61548499]\n",
      " [51.45981183]\n",
      " [54.4653415 ]\n",
      " [46.06149311]\n",
      " [56.28029398]\n",
      " [49.07865746]\n",
      " [55.69082272]\n",
      " [41.28754968]\n",
      " [56.91630395]\n",
      " [49.12519617]\n",
      " [52.13072584]\n",
      " [53.3329377 ]\n",
      " [54.53514957]\n",
      " [54.05039042]\n",
      " [51.04486075]\n",
      " [45.7163501 ]\n",
      " [52.9296213 ]\n",
      " [46.98837003]\n",
      " [54.80274716]]\n"
     ]
    }
   ],
   "source": [
    "# test\n",
    "y_predicted=model.test(x_norm) # normalized predicted y\n",
    "print(y_predicted)"
   ]
  },
  {
   "cell_type": "code",
   "execution_count": 21,
   "id": "dd00181a",
   "metadata": {},
   "outputs": [
    {
     "name": "stdout",
     "output_type": "stream",
     "text": [
      "R_Squared =  [0.10848096]\n"
     ]
    }
   ],
   "source": [
    "# y=np.array(y).reshape(len(y),1)\n",
    "ss_tot=sum((y-y.mean())**2)\n",
    "ss_res=sum((y-y_predicted)**2)\n",
    "r2=1-(ss_res/ss_tot)\n",
    "print('R_Squared = ', r2)"
   ]
  },
  {
   "cell_type": "markdown",
   "id": "f094f6bc",
   "metadata": {},
   "source": [
    "## Trying different values for learning rate (alpha)"
   ]
  },
  {
   "cell_type": "markdown",
   "id": "681199ae",
   "metadata": {},
   "source": [
    "#### Increasing alpha"
   ]
  },
  {
   "cell_type": "code",
   "execution_count": 22,
   "id": "7506688c",
   "metadata": {},
   "outputs": [
    {
     "name": "stdout",
     "output_type": "stream",
     "text": [
      "The coefficient:  [[50.19696094]\n",
      " [-8.48284577]\n",
      " [ 0.29689471]]\n"
     ]
    }
   ],
   "source": [
    "# Train\n",
    "model = MyLinearRegression()\n",
    "model.train(x_norm, y, thetas, 0.1, 100)\n",
    "print('The coefficient: ',model.theta)"
   ]
  },
  {
   "cell_type": "code",
   "execution_count": 23,
   "id": "7402386d",
   "metadata": {},
   "outputs": [
    {
     "data": {
      "image/png": "[encoded data removed]",
      "text/plain": [
       "<Figure size 864x576 with 1 Axes>"
      ]
     },
     "metadata": {
      "needs_background": "light"
     },
     "output_type": "display_data"
    }
   ],
   "source": [
    "plt.figure(figsize=(12,8))\n",
    "plt.plot(range(len(model.cost)), model.cost)\n",
    "plt.xlabel(\"No. Iteration\")\n",
    "plt.ylabel(\"Cost\")\n",
    "plt.title(\"Cost function vs No. of iterations\")\n",
    "plt.show()"
   ]
  },
  {
   "cell_type": "code",
   "execution_count": 24,
   "id": "f5b78168",
   "metadata": {},
   "outputs": [
    {
     "name": "stdout",
     "output_type": "stream",
     "text": [
      "[[61.73106064]\n",
      " [60.52068246]\n",
      " [61.13763569]\n",
      " [59.32206842]\n",
      " [54.49231983]\n",
      " [59.93902165]\n",
      " [52.0833276 ]\n",
      " [59.3455967 ]\n",
      " [34.54460808]\n",
      " [55.1210372 ]\n",
      " [32.7290408 ]\n",
      " [52.09509174]\n",
      " [38.18750677]\n",
      " [58.7639359 ]\n",
      " [50.8964777 ]\n",
      " [59.97431408]\n",
      " [52.11862003]\n",
      " [61.19645641]\n",
      " [41.85393375]\n",
      " [52.14214831]\n",
      " [52.15391245]\n",
      " [58.20580337]\n",
      " [45.50859659]\n",
      " [54.58643296]\n",
      " [40.70237628]\n",
      " [55.83210358]\n",
      " [46.1490781 ]\n",
      " [52.20096902]\n",
      " [49.18678771]\n",
      " [59.47500227]\n",
      " [37.09477001]\n",
      " [60.6971446 ]\n",
      " [41.36638608]\n",
      " [62.5480043 ]\n",
      " [43.78714245]\n",
      " [60.73243702]\n",
      " [48.03523023]\n",
      " [55.29749934]\n",
      " [51.70165721]\n",
      " [61.38468268]\n",
      " [34.16293769]\n",
      " [58.97569046]\n",
      " [44.4629164 ]\n",
      " [54.75113096]\n",
      " [43.8577273 ]\n",
      " [58.9874546 ]\n",
      " [43.26430235]\n",
      " [57.18365147]\n",
      " [55.97327328]\n",
      " [54.7628951 ]\n",
      " [43.89301973]\n",
      " [53.5760452 ]\n",
      " [54.79818753]\n",
      " [37.85289295]\n",
      " [43.29959478]\n",
      " [45.11516206]\n",
      " [42.70616983]\n",
      " [31.81276618]\n",
      " [57.25423632]\n",
      " [41.51931993]\n",
      " [31.23110537]\n",
      " [62.09574906]\n",
      " [33.05843679]\n",
      " [40.92589498]\n",
      " [35.4909573 ]\n",
      " [62.72446644]\n",
      " [47.59473914]\n",
      " [32.46501184]\n",
      " [62.11927734]\n",
      " [54.25181915]\n",
      " [31.2663978 ]\n",
      " [45.18574691]\n",
      " [37.33005286]\n",
      " [37.33005286]\n",
      " [37.98229852]\n",
      " [57.95353855]\n",
      " [46.45494581]\n",
      " [49.48089127]\n",
      " [59.76910583]\n",
      " [44.03418944]\n",
      " [39.1926767 ]\n",
      " [50.69126945]\n",
      " [33.14078578]\n",
      " [45.84975671]\n",
      " [60.97948401]\n",
      " [44.63937853]\n",
      " [40.43834731]\n",
      " [60.40958735]\n",
      " [53.15908239]\n",
      " [43.47605692]\n",
      " [32.5944174 ]\n",
      " [62.853872  ]\n",
      " [44.70996339]\n",
      " [49.55147612]\n",
      " [54.39298886]\n",
      " [59.23450159]\n",
      " [45.31515248]\n",
      " [57.41893432]\n",
      " [44.72172753]\n",
      " [61.6670221 ]\n",
      " [59.86321897]\n",
      " [44.12830258]\n",
      " [33.23489892]\n",
      " [58.04765169]\n",
      " [44.12830258]\n",
      " [61.07359715]\n",
      " [33.85185216]\n",
      " [41.11412126]\n",
      " [32.64147397]\n",
      " [33.85185216]\n",
      " [34.45704125]\n",
      " [62.29573948]\n",
      " [50.80891087]\n",
      " [62.30750362]\n",
      " [62.92445686]\n",
      " [62.31926776]\n",
      " [35.69094772]\n",
      " [44.16359501]\n",
      " [42.97674511]\n",
      " [43.5819342 ]\n",
      " [57.50128331]\n",
      " [50.8442033 ]\n",
      " [49.6573534 ]\n",
      " [50.26254249]\n",
      " [59.95733211]\n",
      " [55.11581937]\n",
      " [47.86531441]\n",
      " [49.68088169]\n",
      " [38.18228894]\n",
      " [50.89125987]\n",
      " [45.44455804]\n",
      " [50.28607078]\n",
      " [58.77048221]\n",
      " [55.13934766]\n",
      " [61.80819181]\n",
      " [56.36148998]\n",
      " [47.2836536 ]\n",
      " [54.54592271]\n",
      " [62.42514505]\n",
      " [52.74211957]\n",
      " [39.43972369]\n",
      " [54.56945099]\n",
      " [57.0019715 ]\n",
      " [54.58121513]\n",
      " [58.82930292]\n",
      " [57.01373564]\n",
      " [44.90995381]\n",
      " [54.59297928]\n",
      " [53.39436524]\n",
      " [53.39436524]\n",
      " [47.94766341]\n",
      " [50.36841978]\n",
      " [47.34247432]\n",
      " [50.97360887]\n",
      " [45.52690704]\n",
      " [57.63068888]\n",
      " [51.57879796]\n",
      " [55.8151216 ]\n",
      " [53.39436524]\n",
      " [55.8151216 ]\n",
      " [40.09196935]\n",
      " [56.43207484]\n",
      " [62.50749404]\n",
      " [55.24522494]\n",
      " [43.79368876]\n",
      " [52.26633605]\n",
      " [48.64696564]\n",
      " [54.09366747]\n",
      " [52.28986433]\n",
      " [54.7106207 ]\n",
      " [49.86910797]\n",
      " [57.13137707]\n",
      " [52.28986433]\n",
      " [52.28986433]\n",
      " [42.618603  ]\n",
      " [55.93276303]\n",
      " [38.98746845]\n",
      " [57.7483303 ]\n",
      " [38.44110007]\n",
      " [52.96563828]\n",
      " [51.80231666]\n",
      " [54.82826212]\n",
      " [46.36737898]\n",
      " [56.65559354]\n",
      " [49.40508858]\n",
      " [56.06216859]\n",
      " [41.56115867]\n",
      " [57.29607506]\n",
      " [49.45214515]\n",
      " [52.47809061]\n",
      " [53.68846879]\n",
      " [54.89884698]\n",
      " [54.41129931]\n",
      " [51.38535385]\n",
      " [46.02100102]\n",
      " [53.28327012]\n",
      " [47.30196406]\n",
      " [55.16942225]]\n"
     ]
    }
   ],
   "source": [
    "# test\n",
    "y_predicted=model.test(x_norm) # normalized predicted y\n",
    "print(y_predicted)"
   ]
  },
  {
   "cell_type": "code",
   "execution_count": 25,
   "id": "6d8d4518",
   "metadata": {},
   "outputs": [
    {
     "name": "stdout",
     "output_type": "stream",
     "text": [
      "R_Squared =  [0.10865084]\n"
     ]
    }
   ],
   "source": [
    "# y=np.array(y).reshape(len(y),1)\n",
    "ss_tot=sum((y-y.mean())**2)\n",
    "ss_res=sum((y-y_predicted)**2)\n",
    "r2=1-(ss_res/ss_tot)\n",
    "print('R_Squared = ', r2)"
   ]
  },
  {
   "cell_type": "markdown",
   "id": "6384fbb8",
   "metadata": {},
   "source": [
    "#### Decreasing alpha"
   ]
  },
  {
   "cell_type": "code",
   "execution_count": 26,
   "id": "5a54f298",
   "metadata": {},
   "outputs": [
    {
     "name": "stdout",
     "output_type": "stream",
     "text": [
      "The coefficient:  [[50.19696851]\n",
      " [-8.48284717]\n",
      " [ 0.29689485]]\n"
     ]
    }
   ],
   "source": [
    "# Train\n",
    "model = MyLinearRegression()\n",
    "model.train(x_norm, y, thetas, 0.001, 2000)\n",
    "print('The coefficient: ',model.theta)"
   ]
  },
  {
   "cell_type": "code",
   "execution_count": 27,
   "id": "c260c7de",
   "metadata": {},
   "outputs": [
    {
     "data": {
      "image/png": "[encoded data removed]",
      "text/plain": [
       "<Figure size 864x576 with 1 Axes>"
      ]
     },
     "metadata": {
      "needs_background": "light"
     },
     "output_type": "display_data"
    }
   ],
   "source": [
    "plt.figure(figsize=(12,8))\n",
    "plt.plot(range(len(model.cost)), model.cost)\n",
    "plt.xlabel(\"No. Iteration\")\n",
    "plt.ylabel(\"Cost\")\n",
    "plt.title(\"Cost function vs No. of iterations\")\n",
    "plt.show()"
   ]
  },
  {
   "cell_type": "code",
   "execution_count": 28,
   "id": "88b85bb1",
   "metadata": {},
   "outputs": [
    {
     "name": "stdout",
     "output_type": "stream",
     "text": [
      "[[61.73106994]\n",
      " [60.52069156]\n",
      " [61.1376449 ]\n",
      " [59.32207733]\n",
      " [54.49232794]\n",
      " [59.93903067]\n",
      " [52.08333533]\n",
      " [59.34560562]\n",
      " [34.54461293]\n",
      " [55.12104543]\n",
      " [32.72904535]\n",
      " [52.09509948]\n",
      " [38.18751222]\n",
      " [58.76394473]\n",
      " [50.89648524]\n",
      " [59.97432311]\n",
      " [52.11862777]\n",
      " [61.19646564]\n",
      " [41.85393981]\n",
      " [52.14215607]\n",
      " [52.15392022]\n",
      " [58.20581213]\n",
      " [45.50860326]\n",
      " [54.58644113]\n",
      " [40.70238217]\n",
      " [55.83211196]\n",
      " [46.14908489]\n",
      " [52.20097681]\n",
      " [49.186795  ]\n",
      " [59.47501125]\n",
      " [37.09477532]\n",
      " [60.69715378]\n",
      " [41.3663921 ]\n",
      " [62.5480138 ]\n",
      " [43.78714887]\n",
      " [60.73244623]\n",
      " [48.03523736]\n",
      " [55.29750765]\n",
      " [51.70166495]\n",
      " [61.38469201]\n",
      " [34.16294255]\n",
      " [58.97569939]\n",
      " [44.46292295]\n",
      " [54.7511392 ]\n",
      " [43.85773376]\n",
      " [58.98746354]\n",
      " [43.26430872]\n",
      " [57.18366012]\n",
      " [55.97328173]\n",
      " [54.76290335]\n",
      " [43.8930262 ]\n",
      " [53.57605326]\n",
      " [54.7981958 ]\n",
      " [37.85289844]\n",
      " [43.29960116]\n",
      " [45.11516873]\n",
      " [42.70617612]\n",
      " [31.81277067]\n",
      " [57.25424501]\n",
      " [41.51932603]\n",
      " [31.23110978]\n",
      " [62.09575854]\n",
      " [33.0584415 ]\n",
      " [40.92590099]\n",
      " [35.49096241]\n",
      " [62.72447602]\n",
      " [47.59474624]\n",
      " [32.46501646]\n",
      " [62.11928683]\n",
      " [54.25182735]\n",
      " [31.26640222]\n",
      " [45.18575362]\n",
      " [37.33005828]\n",
      " [37.33005828]\n",
      " [37.98230407]\n",
      " [57.95354738]\n",
      " [46.45495275]\n",
      " [49.4808987 ]\n",
      " [59.76911496]\n",
      " [44.03419598]\n",
      " [39.19268245]\n",
      " [50.69127709]\n",
      " [33.14079054]\n",
      " [45.84976355]\n",
      " [60.97949334]\n",
      " [44.63938517]\n",
      " [40.43835328]\n",
      " [60.40959659]\n",
      " [53.15909044]\n",
      " [43.47606338]\n",
      " [32.59442209]\n",
      " [62.85388165]\n",
      " [44.70997006]\n",
      " [49.55148359]\n",
      " [54.39299712]\n",
      " [59.23451065]\n",
      " [45.31515925]\n",
      " [57.41894308]\n",
      " [44.72173421]\n",
      " [61.66703157]\n",
      " [59.86322814]\n",
      " [44.12830917]\n",
      " [33.23490372]\n",
      " [58.04766057]\n",
      " [44.12830917]\n",
      " [61.07360652]\n",
      " [33.85185706]\n",
      " [41.11412736]\n",
      " [32.64147868]\n",
      " [33.85185706]\n",
      " [34.45704625]\n",
      " [62.29574905]\n",
      " [50.80891857]\n",
      " [62.3075132 ]\n",
      " [62.92446654]\n",
      " [62.31927735]\n",
      " [35.69095293]\n",
      " [44.16360161]\n",
      " [42.97675152]\n",
      " [43.58194071]\n",
      " [57.50129212]\n",
      " [50.84421101]\n",
      " [49.65736092]\n",
      " [50.26255012]\n",
      " [59.95734133]\n",
      " [55.1158278 ]\n",
      " [47.86532165]\n",
      " [49.68088922]\n",
      " [38.18229458]\n",
      " [50.8912676 ]\n",
      " [45.44456488]\n",
      " [50.28607841]\n",
      " [58.77049124]\n",
      " [55.13935609]\n",
      " [61.80820134]\n",
      " [56.36149862]\n",
      " [47.28366075]\n",
      " [54.54593105]\n",
      " [62.42515468]\n",
      " [52.74212762]\n",
      " [39.43972956]\n",
      " [54.56945934]\n",
      " [57.00198026]\n",
      " [54.58122349]\n",
      " [58.82931198]\n",
      " [57.01374441]\n",
      " [44.90996058]\n",
      " [54.59298764]\n",
      " [53.39437341]\n",
      " [53.39437341]\n",
      " [47.94767068]\n",
      " [50.36842745]\n",
      " [47.34248149]\n",
      " [50.97361664]\n",
      " [45.52691392]\n",
      " [57.63069775]\n",
      " [51.57880583]\n",
      " [55.81513017]\n",
      " [53.39437341]\n",
      " [55.81513017]\n",
      " [40.09197534]\n",
      " [56.43208351]\n",
      " [62.50750372]\n",
      " [55.24523342]\n",
      " [43.79369538]\n",
      " [52.26634406]\n",
      " [48.64697306]\n",
      " [54.09367578]\n",
      " [52.28987236]\n",
      " [54.71062912]\n",
      " [49.86911559]\n",
      " [57.13138589]\n",
      " [52.28987236]\n",
      " [52.28987236]\n",
      " [42.61860944]\n",
      " [55.93277165]\n",
      " [38.98747429]\n",
      " [57.74833923]\n",
      " [38.44110584]\n",
      " [52.96564644]\n",
      " [51.80232465]\n",
      " [54.8282706 ]\n",
      " [46.36738607]\n",
      " [56.65560233]\n",
      " [49.40509618]\n",
      " [56.06217728]\n",
      " [41.56116499]\n",
      " [57.29608396]\n",
      " [49.45215277]\n",
      " [52.47809873]\n",
      " [53.68847711]\n",
      " [54.89885549]\n",
      " [54.41130778]\n",
      " [51.38536183]\n",
      " [46.02100814]\n",
      " [53.28327844]\n",
      " [47.30197141]\n",
      " [55.1694309 ]]\n"
     ]
    }
   ],
   "source": [
    "# test\n",
    "y_predicted=model.test(x_norm) # normalized predicted y\n",
    "print(y_predicted)"
   ]
  },
  {
   "cell_type": "code",
   "execution_count": 29,
   "id": "d9f2915c",
   "metadata": {},
   "outputs": [
    {
     "name": "stdout",
     "output_type": "stream",
     "text": [
      "R_Squared =  [0.10865084]\n"
     ]
    }
   ],
   "source": [
    "# y=np.array(y).reshape(len(y),1)\n",
    "ss_tot=sum((y-y.mean())**2)\n",
    "ss_res=sum((y-y_predicted)**2)\n",
    "r2=1-(ss_res/ss_tot)\n",
    "print('R_Squared = ', r2)"
   ]
  },
  {
   "cell_type": "markdown",
   "id": "341f5053",
   "metadata": {},
   "source": [
    "## Implementing the deterministic normal equation"
   ]
  },
  {
   "cell_type": "code",
   "execution_count": 30,
   "id": "aeb13a73",
   "metadata": {},
   "outputs": [],
   "source": [
    "# add column of ones for interception factors\n",
    "X=np.c_[np.ones(len(x)),x]\n",
    "b = np.linalg.inv(X.T.dot(X)).dot(X.T).dot(y)"
   ]
  },
  {
   "cell_type": "code",
   "execution_count": 31,
   "id": "f141baa8",
   "metadata": {},
   "outputs": [
    {
     "name": "stdout",
     "output_type": "stream",
     "text": [
      "The coefficient:  [[ 7.30532041e+01]\n",
      " [-6.05189207e-01]\n",
      " [ 1.17641491e-02]]\n"
     ]
    }
   ],
   "source": [
    "print('The coefficient: ',b)"
   ]
  },
  {
   "cell_type": "code",
   "execution_count": 32,
   "id": "ee8498ad",
   "metadata": {},
   "outputs": [
    {
     "name": "stdout",
     "output_type": "stream",
     "text": [
      "R_Squared =  [0.10865084]\n"
     ]
    }
   ],
   "source": [
    "# y=np.array(y).reshape(len(y),1)\n",
    "ss_tot=sum((y-y.mean())**2)\n",
    "ss_res=sum((y-np.array(X.dot(b)))**2)\n",
    "r2=1-(ss_res/ss_tot)\n",
    "print('R_Squared = ', r2)"
   ]
  },
  {
   "cell_type": "markdown",
   "id": "916e0bac",
   "metadata": {},
   "source": [
    "# implementation of sklearn solution"
   ]
  },
  {
   "cell_type": "code",
   "execution_count": 33,
   "id": "31ef4f48",
   "metadata": {},
   "outputs": [],
   "source": [
    "from sklearn.linear_model import LinearRegression\n",
    "model = LinearRegression()\n",
    "#Train the model\n",
    "model.fit(x, y)\n",
    "# predict target values \n",
    "y_pred = model.predict(x)"
   ]
  },
  {
   "cell_type": "code",
   "execution_count": 34,
   "id": "e8a50ec1",
   "metadata": {},
   "outputs": [
    {
     "name": "stdout",
     "output_type": "stream",
     "text": [
      "Intercept: [73.0532041]\n",
      "Coefficients: [[-0.60518921  0.01176415]]\n"
     ]
    }
   ],
   "source": [
    "print(\"Intercept:\", model.intercept_)\n",
    "print(\"Coefficients:\", model.coef_)"
   ]
  },
  {
   "cell_type": "code",
   "execution_count": 35,
   "id": "eaae294e",
   "metadata": {},
   "outputs": [
    {
     "name": "stdout",
     "output_type": "stream",
     "text": [
      "Score: 0.10865084372803502\n"
     ]
    }
   ],
   "source": [
    "print(\"Score:\", model.score(x,y))"
   ]
  },
  {
   "cell_type": "markdown",
   "id": "1e483a6d",
   "metadata": {},
   "source": [
    "## Using all three methods to predict spending score for a customer with age 35 and annual income 44"
   ]
  },
  {
   "cell_type": "markdown",
   "id": "cadd28f8",
   "metadata": {},
   "source": [
    "### 1) using the implemented multivariate GD"
   ]
  },
  {
   "cell_type": "code",
   "execution_count": 36,
   "id": "080646f8",
   "metadata": {},
   "outputs": [
    {
     "name": "stdout",
     "output_type": "stream",
     "text": [
      "The coefficient:  [[50.1969697 ]\n",
      " [-8.48284739]\n",
      " [ 0.29689488]]\n"
     ]
    }
   ],
   "source": [
    "# Train\n",
    "model = MyLinearRegression()\n",
    "model.train(x_norm, y, thetas, 0.1, 100)\n",
    "print('The coefficient: ',model.theta)"
   ]
  },
  {
   "cell_type": "code",
   "execution_count": 37,
   "id": "f63c2bee",
   "metadata": {},
   "outputs": [],
   "source": [
    "normalized_age=(35-x['Age'].mean())/x['Age'].std()\n",
    "normalized_income=(44-x['Annual Income (k$)'].mean())/x['Annual Income (k$)'].std()"
   ]
  },
  {
   "cell_type": "code",
   "execution_count": 38,
   "id": "9f8e7553",
   "metadata": {
    "scrolled": true
   },
   "outputs": [
    {
     "name": "stdout",
     "output_type": "stream",
     "text": [
      "The predicted spending score for that customer :  [52.38920441]\n"
     ]
    }
   ],
   "source": [
    "print(\"The predicted spending score for that customer : \",(model.theta[0]+model.theta[1]*normalized_age+model.theta[2]*normalized_income))"
   ]
  },
  {
   "cell_type": "markdown",
   "id": "750f54c7",
   "metadata": {},
   "source": [
    "### 2) using the deterministic normal equation"
   ]
  },
  {
   "cell_type": "code",
   "execution_count": 39,
   "id": "66617b68",
   "metadata": {},
   "outputs": [
    {
     "name": "stdout",
     "output_type": "stream",
     "text": [
      "The coefficient:  [[ 7.30532041e+01]\n",
      " [-6.05189207e-01]\n",
      " [ 1.17641491e-02]]\n"
     ]
    }
   ],
   "source": [
    "b = np.linalg.inv(X.T.dot(X)).dot(X.T).dot(y)\n",
    "print('The coefficient: ',b)"
   ]
  },
  {
   "cell_type": "code",
   "execution_count": 40,
   "id": "d16ed224",
   "metadata": {},
   "outputs": [
    {
     "name": "stdout",
     "output_type": "stream",
     "text": [
      "The predicted spending score for that customer :  [52.38920441]\n"
     ]
    }
   ],
   "source": [
    "print(\"The predicted spending score for that customer : \",(b[0]+b[1]*35+b[2]*44))"
   ]
  },
  {
   "cell_type": "markdown",
   "id": "e4e12399",
   "metadata": {},
   "source": [
    "### 3) using the sklearn library"
   ]
  },
  {
   "cell_type": "code",
   "execution_count": 41,
   "id": "7b6b6720",
   "metadata": {},
   "outputs": [
    {
     "data": {
      "text/plain": [
       "LinearRegression()"
      ]
     },
     "execution_count": 41,
     "metadata": {},
     "output_type": "execute_result"
    }
   ],
   "source": [
    "from sklearn.linear_model import LinearRegression\n",
    "model = LinearRegression()\n",
    "#Train the model\n",
    "model.fit(x, y)"
   ]
  },
  {
   "cell_type": "code",
   "execution_count": 42,
   "id": "aff9b1ee",
   "metadata": {},
   "outputs": [
    {
     "name": "stdout",
     "output_type": "stream",
     "text": [
      "Intercept: 73.05320409643335\n",
      "Coefficients: [-0.60518921  0.01176415]\n"
     ]
    }
   ],
   "source": [
    "print(\"Intercept:\", model.intercept_[0])\n",
    "print(\"Coefficients:\", model.coef_[0])"
   ]
  },
  {
   "cell_type": "code",
   "execution_count": 43,
   "id": "b4ec5eed",
   "metadata": {},
   "outputs": [
    {
     "name": "stdout",
     "output_type": "stream",
     "text": [
      "The predicted spending score for that customer :  52.389204408916555\n"
     ]
    }
   ],
   "source": [
    "print(\"The predicted spending score for that customer : \",(model.intercept_[0]+model.coef_[0,0]*35+model.coef_[0,1]*44))"
   ]
  },
  {
   "cell_type": "code",
   "execution_count": null,
   "id": "02c43f73",
   "metadata": {},
   "outputs": [],
   "source": []
  }
 ],
 "metadata": {
  "kernelspec": {
   "display_name": "Python 3",
   "language": "python",
   "name": "python3"
  },
  "language_info": {
   "codemirror_mode": {
    "name": "ipython",
    "version": 3
   },
   "file_extension": ".py",
   "mimetype": "text/x-python",
   "name": "python",
   "nbconvert_exporter": "python",
   "pygments_lexer": "ipython3",
   "version": "3.8.8"
  }
 },
 "nbformat": 4,
 "nbformat_minor": 5
}
